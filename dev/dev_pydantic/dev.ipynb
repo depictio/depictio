{
 "cells": [
  {
   "cell_type": "code",
   "execution_count": 1,
   "metadata": {},
   "outputs": [
    {
     "name": "stdout",
     "output_type": "stream",
     "text": [
      "Processing /Users/tweber/Gits/workspaces/depictio/depictio-models\n",
      "  Preparing metadata (setup.py) ... \u001b[?25ldone\n",
      "\u001b[?25hRequirement already satisfied: pydantic in /Users/tweber/miniconda3/envs/depictio_dev/lib/python3.11/site-packages (from depictio-models==0.0.3) (1.10.10)\n",
      "Requirement already satisfied: bleach in /Users/tweber/miniconda3/envs/depictio_dev/lib/python3.11/site-packages (from depictio-models==0.0.3) (6.1.0)\n",
      "Requirement already satisfied: bson in /Users/tweber/miniconda3/envs/depictio_dev/lib/python3.11/site-packages (from depictio-models==0.0.3) (0.5.9)\n",
      "Requirement already satisfied: colorlog in /Users/tweber/miniconda3/envs/depictio_dev/lib/python3.11/site-packages (from depictio-models==0.0.3) (6.8.2)\n",
      "Requirement already satisfied: typeguard in /Users/tweber/miniconda3/envs/depictio_dev/lib/python3.11/site-packages (from depictio-models==0.0.3) (4.4.1)\n",
      "Requirement already satisfied: six>=1.9.0 in /Users/tweber/miniconda3/envs/depictio_dev/lib/python3.11/site-packages (from bleach->depictio-models==0.0.3) (1.16.0)\n",
      "Requirement already satisfied: webencodings in /Users/tweber/miniconda3/envs/depictio_dev/lib/python3.11/site-packages (from bleach->depictio-models==0.0.3) (0.5.1)\n",
      "Requirement already satisfied: python-dateutil>=2.4.0 in /Users/tweber/miniconda3/envs/depictio_dev/lib/python3.11/site-packages (from bson->depictio-models==0.0.3) (2.8.2)\n",
      "Requirement already satisfied: typing-extensions>=4.2.0 in /Users/tweber/miniconda3/envs/depictio_dev/lib/python3.11/site-packages (from pydantic->depictio-models==0.0.3) (4.12.2)\n",
      "Building wheels for collected packages: depictio-models\n",
      "  Building wheel for depictio-models (setup.py) ... \u001b[?25ldone\n",
      "\u001b[?25h  Created wheel for depictio-models: filename=depictio_models-0.0.3-py3-none-any.whl size=26217 sha256=1a5d02e3c5587b4df1e6f3527d99dea137435fc223c90cb1dc9f922515733ad8\n",
      "  Stored in directory: /Users/tweber/Library/Caches/pip/wheels/e3/a9/c2/fc5e78b50c0a53b237abcea0e9c2ddac86c747fc6eebf037b4\n",
      "Successfully built depictio-models\n",
      "Installing collected packages: depictio-models\n",
      "  Attempting uninstall: depictio-models\n",
      "    Found existing installation: depictio-models 0.0.3\n",
      "    Uninstalling depictio-models-0.0.3:\n",
      "      Successfully uninstalled depictio-models-0.0.3\n",
      "\u001b[31mERROR: pip's dependency resolver does not currently take into account all the packages that are installed. This behaviour is the source of the following dependency conflicts.\n",
      "depictio-cli 0.0.1 requires tinydb, which is not installed.\u001b[0m\u001b[31m\n",
      "\u001b[0mSuccessfully installed depictio-models-0.0.3\n"
     ]
    }
   ],
   "source": [
    "!pip install /Users/tweber/Gits/workspaces/depictio/depictio-models"
   ]
  },
  {
   "cell_type": "code",
   "execution_count": 22,
   "metadata": {},
   "outputs": [
    {
     "ename": "ImportError",
     "evalue": "cannot import name 'Test' from 'depictio_models.models.deltatables' (/Users/tweber/Gits/workspaces/depictio/depictio-models/depictio_models/models/deltatables.py)",
     "output_type": "error",
     "traceback": [
      "\u001b[0;31m---------------------------------------------------------------------------\u001b[0m",
      "\u001b[0;31mImportError\u001b[0m                               Traceback (most recent call last)",
      "Cell \u001b[0;32mIn[22], line 1\u001b[0m\n\u001b[0;32m----> 1\u001b[0m \u001b[38;5;28;01mfrom\u001b[39;00m\u001b[38;5;250m \u001b[39m\u001b[38;5;21;01mdepictio_models\u001b[39;00m\u001b[38;5;21;01m.\u001b[39;00m\u001b[38;5;21;01mmodels\u001b[39;00m\u001b[38;5;21;01m.\u001b[39;00m\u001b[38;5;21;01mdeltatables\u001b[39;00m\u001b[38;5;250m \u001b[39m\u001b[38;5;28;01mimport\u001b[39;00m DeltaTableAggregated, Test\n\u001b[1;32m      2\u001b[0m \u001b[38;5;28;01mfrom\u001b[39;00m\u001b[38;5;250m \u001b[39m\u001b[38;5;21;01mbson\u001b[39;00m\u001b[38;5;250m \u001b[39m\u001b[38;5;28;01mimport\u001b[39;00m ObjectId\n\u001b[1;32m      3\u001b[0m \u001b[38;5;28;01mfrom\u001b[39;00m\u001b[38;5;250m \u001b[39m\u001b[38;5;21;01mdepictio_models\u001b[39;00m\u001b[38;5;21;01m.\u001b[39;00m\u001b[38;5;21;01mmodels\u001b[39;00m\u001b[38;5;21;01m.\u001b[39;00m\u001b[38;5;21;01mbase\u001b[39;00m\u001b[38;5;250m \u001b[39m\u001b[38;5;28;01mimport\u001b[39;00m MongoModel\n",
      "\u001b[0;31mImportError\u001b[0m: cannot import name 'Test' from 'depictio_models.models.deltatables' (/Users/tweber/Gits/workspaces/depictio/depictio-models/depictio_models/models/deltatables.py)"
     ]
    }
   ],
   "source": [
    "from depictio_models.models.deltatables import DeltaTableAggregated, Test\n",
    "from bson import ObjectId\n",
    "from depictio_models.models.base import MongoModel"
   ]
  },
  {
   "cell_type": "code",
   "execution_count": 18,
   "metadata": {},
   "outputs": [
    {
     "data": {
      "text/plain": [
       "MongoModel(id=ObjectId('67b8ac1616cbdc5f2ef9cf10'), description=None, flexible_metadata=None)"
      ]
     },
     "execution_count": 18,
     "metadata": {},
     "output_type": "execute_result"
    }
   ],
   "source": [
    "MongoModel()"
   ]
  },
  {
   "cell_type": "code",
   "execution_count": 19,
   "metadata": {},
   "outputs": [
    {
     "ename": "KeyError",
     "evalue": "'delta_table_location'",
     "output_type": "error",
     "traceback": [
      "\u001b[0;31m---------------------------------------------------------------------------\u001b[0m",
      "\u001b[0;31mKeyError\u001b[0m                                  Traceback (most recent call last)",
      "Cell \u001b[0;32mIn[19], line 1\u001b[0m\n\u001b[0;32m----> 1\u001b[0m \u001b[43mDeltaTableAggregated\u001b[49m\u001b[43m(\u001b[49m\u001b[43m)\u001b[49m\n",
      "    \u001b[0;31m[... skipping hidden 1 frame]\u001b[0m\n",
      "File \u001b[0;32m~/Gits/workspaces/depictio/depictio-models/depictio_models/models/deltatables.py:100\u001b[0m, in \u001b[0;36mvalidate_delta_table_location\u001b[0;34m(cls, v)\u001b[0m\n\u001b[1;32m     85\u001b[0m     data_collection_id: PyObjectId\n\u001b[1;32m     86\u001b[0m     delta_table_location: str\n\u001b[1;32m     87\u001b[0m     # aggregation: List[Aggregation] = []\n\u001b[1;32m     88\u001b[0m \n\u001b[1;32m     89\u001b[0m     # def __eq__(self, other):\n\u001b[1;32m     90\u001b[0m     #     if isinstance(other, DeltaTableAggregated):\n\u001b[1;32m     91\u001b[0m     #         return all(getattr(self, field) == getattr(other, field) for field in self.model_fields.keys() if field not in [\"id\"])\n\u001b[1;32m     92\u001b[0m     #     return NotImplemented\n\u001b[1;32m     93\u001b[0m \n\u001b[1;32m     94\u001b[0m     # @model_validator(mode=\"before\")\n\u001b[1;32m     95\u001b[0m     # def validate_delta_table_location(cls, v):\n\u001b[1;32m     96\u001b[0m     #     \"\"\"\n\u001b[1;32m     97\u001b[0m     #     Validate the delta_table_location field to ensure it starts with 's3://' and ends with the data_collection_id.\n\u001b[1;32m     98\u001b[0m     #     \"\"\"\n\u001b[1;32m     99\u001b[0m     #     # check if v starts with 's3://' and ends with the data_collection_id\n\u001b[0;32m--> 100\u001b[0m     #     if not v[\"delta_table_location\"].startswith(\"s3://\"):\n\u001b[1;32m    101\u001b[0m     #         raise ValueError(\"delta_table_location must start with 's3://'\")\n\u001b[1;32m    102\u001b[0m     #     if not v[\"delta_table_location\"].endswith(str(v[\"data_collection_id\"])):\n\u001b[1;32m    103\u001b[0m     #         raise ValueError(\"delta_table_location must end with the data_collection_id\")\n\u001b[1;32m    106\u001b[0m class UpsertDeltaTableAggregated(BaseModel):\n\u001b[1;32m    107\u001b[0m     data_collection_id: PyObjectId\n",
      "\u001b[0;31mKeyError\u001b[0m: 'delta_table_location'"
     ]
    }
   ],
   "source": [
    "DeltaTableAggregated()"
   ]
  },
  {
   "cell_type": "code",
   "execution_count": 20,
   "metadata": {},
   "outputs": [
    {
     "ename": "ValidationError",
     "evalue": "1 validation error for DeltaTableAggregated\n  Input should be a valid dictionary or instance of DeltaTableAggregated [type=model_type, input_value=None, input_type=NoneType]\n    For further information visit https://errors.pydantic.dev/2.10/v/model_type",
     "output_type": "error",
     "traceback": [
      "\u001b[0;31m---------------------------------------------------------------------------\u001b[0m",
      "\u001b[0;31mValidationError\u001b[0m                           Traceback (most recent call last)",
      "Cell \u001b[0;32mIn[20], line 1\u001b[0m\n\u001b[0;32m----> 1\u001b[0m \u001b[43mDeltaTableAggregated\u001b[49m\u001b[43m(\u001b[49m\n\u001b[1;32m      2\u001b[0m \u001b[43m    \u001b[49m\u001b[43mdelta_table_location\u001b[49m\u001b[38;5;241;43m=\u001b[39;49m\u001b[38;5;124;43m\"\u001b[39;49m\u001b[38;5;124;43ms3://depictio-bucket/64c0f3a2e4b0d7c5f8e1a2b1\u001b[39;49m\u001b[38;5;124;43m\"\u001b[39;49m\u001b[43m,\u001b[49m\n\u001b[1;32m      3\u001b[0m \u001b[43m    \u001b[49m\u001b[43mdata_collection_id\u001b[49m\u001b[38;5;241;43m=\u001b[39;49m\u001b[43mObjectId\u001b[49m\u001b[43m(\u001b[49m\u001b[38;5;124;43m\"\u001b[39;49m\u001b[38;5;124;43m64c0f3a2e4b0d7c5f8e1a2b1\u001b[39;49m\u001b[38;5;124;43m\"\u001b[39;49m\u001b[43m)\u001b[49m\n\u001b[1;32m      4\u001b[0m \u001b[43m)\u001b[49m\n",
      "File \u001b[0;32m~/micromamba/envs/depictio-models-env/lib/python3.11/site-packages/pydantic/main.py:214\u001b[0m, in \u001b[0;36mBaseModel.__init__\u001b[0;34m(self, **data)\u001b[0m\n\u001b[1;32m    212\u001b[0m \u001b[38;5;66;03m# `__tracebackhide__` tells pytest and some other tools to omit this function from tracebacks\u001b[39;00m\n\u001b[1;32m    213\u001b[0m __tracebackhide__ \u001b[38;5;241m=\u001b[39m \u001b[38;5;28;01mTrue\u001b[39;00m\n\u001b[0;32m--> 214\u001b[0m validated_self \u001b[38;5;241m=\u001b[39m \u001b[38;5;28;43mself\u001b[39;49m\u001b[38;5;241;43m.\u001b[39;49m\u001b[43m__pydantic_validator__\u001b[49m\u001b[38;5;241;43m.\u001b[39;49m\u001b[43mvalidate_python\u001b[49m\u001b[43m(\u001b[49m\u001b[43mdata\u001b[49m\u001b[43m,\u001b[49m\u001b[43m \u001b[49m\u001b[43mself_instance\u001b[49m\u001b[38;5;241;43m=\u001b[39;49m\u001b[38;5;28;43mself\u001b[39;49m\u001b[43m)\u001b[49m\n\u001b[1;32m    215\u001b[0m \u001b[38;5;28;01mif\u001b[39;00m \u001b[38;5;28mself\u001b[39m \u001b[38;5;129;01mis\u001b[39;00m \u001b[38;5;129;01mnot\u001b[39;00m validated_self:\n\u001b[1;32m    216\u001b[0m     warnings\u001b[38;5;241m.\u001b[39mwarn(\n\u001b[1;32m    217\u001b[0m         \u001b[38;5;124m'\u001b[39m\u001b[38;5;124mA custom validator is returning a value other than `self`.\u001b[39m\u001b[38;5;130;01m\\n\u001b[39;00m\u001b[38;5;124m'\u001b[39m\n\u001b[1;32m    218\u001b[0m         \u001b[38;5;124m\"\u001b[39m\u001b[38;5;124mReturning anything other than `self` from a top level model validator isn\u001b[39m\u001b[38;5;124m'\u001b[39m\u001b[38;5;124mt supported when validating via `__init__`.\u001b[39m\u001b[38;5;130;01m\\n\u001b[39;00m\u001b[38;5;124m\"\u001b[39m\n\u001b[1;32m    219\u001b[0m         \u001b[38;5;124m'\u001b[39m\u001b[38;5;124mSee the `model_validator` docs (https://docs.pydantic.dev/latest/concepts/validators/#model-validators) for more details.\u001b[39m\u001b[38;5;124m'\u001b[39m,\n\u001b[1;32m    220\u001b[0m         stacklevel\u001b[38;5;241m=\u001b[39m\u001b[38;5;241m2\u001b[39m,\n\u001b[1;32m    221\u001b[0m     )\n",
      "\u001b[0;31mValidationError\u001b[0m: 1 validation error for DeltaTableAggregated\n  Input should be a valid dictionary or instance of DeltaTableAggregated [type=model_type, input_value=None, input_type=NoneType]\n    For further information visit https://errors.pydantic.dev/2.10/v/model_type"
     ]
    }
   ],
   "source": [
    "DeltaTableAggregated(\n",
    "    delta_table_location=\"s3://depictio-bucket/64c0f3a2e4b0d7c5f8e1a2b1\",\n",
    "    data_collection_id=ObjectId(\"64c0f3a2e4b0d7c5f8e1a2b1\")\n",
    ")"
   ]
  }
 ],
 "metadata": {
  "kernelspec": {
   "display_name": "Python 3",
   "language": "python",
   "name": "python3"
  },
  "language_info": {
   "codemirror_mode": {
    "name": "ipython",
    "version": 3
   },
   "file_extension": ".py",
   "mimetype": "text/x-python",
   "name": "python",
   "nbconvert_exporter": "python",
   "pygments_lexer": "ipython3",
   "version": "3.11.11"
  }
 },
 "nbformat": 4,
 "nbformat_minor": 2
}
