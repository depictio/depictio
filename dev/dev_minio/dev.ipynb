{
 "cells": [
  {
   "cell_type": "code",
   "execution_count": 13,
   "metadata": {},
   "outputs": [
    {
     "name": "stderr",
     "output_type": "stream",
     "text": [
      "/tmp/ipykernel_150322/3922160290.py:38: DeprecationWarning: overwrite_schema is deprecated, use schema_mode instead. \n",
      "  deltalake.write_deltalake(\"../../minio_data/depictio-bucket/TEST/delta-table/\", mode=\"overwrite\", overwrite_schema=True, data=df.to_pandas())\n"
     ]
    },
    {
     "ename": "OSError",
     "evalue": "Generic S3 error: Client error with status 403 Forbidden: <?xml version=\"1.0\" encoding=\"UTF-8\"?>\n<Error><Code>InvalidTokenId</Code><Message>The security token included in the request is invalid</Message><Key>TEST/delta-table/_delta_log/_last_checkpoint</Key><BucketName>depictio-bucket</BucketName><Resource>/depictio-bucket/TEST/delta-table/_delta_log/_last_checkpoint</Resource><RequestId>17D272C149DBA6AB</RequestId><HostId>dd9025bab4ad464b049177c95eb6ebf374d3b3fd1af9251148b658df7ac2e3e8</HostId></Error>",
     "output_type": "error",
     "traceback": [
      "\u001b[0;31m---------------------------------------------------------------------------\u001b[0m",
      "\u001b[0;31mOSError\u001b[0m                                   Traceback (most recent call last)",
      "Cell \u001b[0;32mIn[13], line 42\u001b[0m\n\u001b[1;32m     40\u001b[0m os\u001b[38;5;241m.\u001b[39menviron[\u001b[38;5;124m\"\u001b[39m\u001b[38;5;124mAWS_ALLOW_HTTP\u001b[39m\u001b[38;5;124m\"\u001b[39m] \u001b[38;5;241m=\u001b[39m \u001b[38;5;124m\"\u001b[39m\u001b[38;5;124mtrue\u001b[39m\u001b[38;5;124m\"\u001b[39m\n\u001b[1;32m     41\u001b[0m os\u001b[38;5;241m.\u001b[39menviron[\u001b[38;5;124m\"\u001b[39m\u001b[38;5;124mAWS_S3_ALLOW_UNSAFE_RENAME\u001b[39m\u001b[38;5;124m\"\u001b[39m] \u001b[38;5;241m=\u001b[39m \u001b[38;5;124m\"\u001b[39m\u001b[38;5;124mtrue\u001b[39m\u001b[38;5;124m\"\u001b[39m\n\u001b[0;32m---> 42\u001b[0m \u001b[43mdeltalake\u001b[49m\u001b[38;5;241;43m.\u001b[39;49m\u001b[43mwrite_deltalake\u001b[49m\u001b[43m(\u001b[49m\u001b[38;5;124;43m\"\u001b[39;49m\u001b[38;5;124;43ms3://depictio-bucket/TEST/delta-table/\u001b[39;49m\u001b[38;5;124;43m\"\u001b[39;49m\u001b[43m,\u001b[49m\u001b[43m \u001b[49m\u001b[43mmode\u001b[49m\u001b[38;5;241;43m=\u001b[39;49m\u001b[38;5;124;43m\"\u001b[39;49m\u001b[38;5;124;43moverwrite\u001b[39;49m\u001b[38;5;124;43m\"\u001b[39;49m\u001b[43m,\u001b[49m\u001b[43m \u001b[49m\u001b[43moverwrite_schema\u001b[49m\u001b[38;5;241;43m=\u001b[39;49m\u001b[38;5;28;43;01mTrue\u001b[39;49;00m\u001b[43m,\u001b[49m\u001b[43m \u001b[49m\u001b[43mstorage_options\u001b[49m\u001b[38;5;241;43m=\u001b[39;49m\u001b[43mminio_storage_options\u001b[49m\u001b[43m,\u001b[49m\u001b[43m \u001b[49m\u001b[43mdata\u001b[49m\u001b[38;5;241;43m=\u001b[39;49m\u001b[43mdf\u001b[49m\u001b[38;5;241;43m.\u001b[39;49m\u001b[43mto_pandas\u001b[49m\u001b[43m(\u001b[49m\u001b[43m)\u001b[49m\u001b[43m)\u001b[49m\n\u001b[1;32m     43\u001b[0m df\u001b[38;5;241m.\u001b[39mto_pandas()\n\u001b[1;32m     45\u001b[0m \u001b[38;5;66;03m# pl.scan_parquet(\u001b[39;00m\n\u001b[1;32m     46\u001b[0m \u001b[38;5;66;03m#     \"s3://depictio-bucket/TEST/delta-table.parquet\",\u001b[39;00m\n\u001b[1;32m     47\u001b[0m \u001b[38;5;66;03m#     storage_options={    \"endpoint_url\": \"http://localhost:9000\",\u001b[39;00m\n\u001b[1;32m     48\u001b[0m \u001b[38;5;66;03m#     \"aws_access_key_id\": \"admin\",\u001b[39;00m\n\u001b[1;32m     49\u001b[0m \u001b[38;5;66;03m#     \"aws_secret_access_key\": \"alpiance\"},\u001b[39;00m\n\u001b[1;32m     50\u001b[0m \u001b[38;5;66;03m# )\u001b[39;00m\n",
      "File \u001b[0;32m/workspaces/depictio/.venv/lib/python3.11/site-packages/deltalake/writer.py:265\u001b[0m, in \u001b[0;36mwrite_deltalake\u001b[0;34m(table_or_uri, data, schema, partition_by, mode, file_options, max_partitions, max_open_files, max_rows_per_file, min_rows_per_group, max_rows_per_group, name, description, configuration, overwrite_schema, schema_mode, storage_options, partition_filters, predicate, large_dtypes, engine, writer_properties, custom_metadata)\u001b[0m\n\u001b[1;32m    176\u001b[0m \u001b[38;5;28;01mdef\u001b[39;00m \u001b[38;5;21mwrite_deltalake\u001b[39m(\n\u001b[1;32m    177\u001b[0m     table_or_uri: Union[\u001b[38;5;28mstr\u001b[39m, Path, DeltaTable],\n\u001b[1;32m    178\u001b[0m     data: Union[\n\u001b[0;32m   (...)\u001b[0m\n\u001b[1;32m    207\u001b[0m     custom_metadata: Optional[Dict[\u001b[38;5;28mstr\u001b[39m, \u001b[38;5;28mstr\u001b[39m]] \u001b[38;5;241m=\u001b[39m \u001b[38;5;28;01mNone\u001b[39;00m,\n\u001b[1;32m    208\u001b[0m ) \u001b[38;5;241m-\u001b[39m\u001b[38;5;241m>\u001b[39m \u001b[38;5;28;01mNone\u001b[39;00m:\n\u001b[1;32m    209\u001b[0m \u001b[38;5;250m    \u001b[39m\u001b[38;5;124;03m\"\"\"Write to a Delta Lake table\u001b[39;00m\n\u001b[1;32m    210\u001b[0m \n\u001b[1;32m    211\u001b[0m \u001b[38;5;124;03m    If the table does not already exist, it will be created.\u001b[39;00m\n\u001b[0;32m   (...)\u001b[0m\n\u001b[1;32m    263\u001b[0m \u001b[38;5;124;03m        custom_metadata: Custom metadata to add to the commitInfo.\u001b[39;00m\n\u001b[1;32m    264\u001b[0m \u001b[38;5;124;03m    \"\"\"\u001b[39;00m\n\u001b[0;32m--> 265\u001b[0m     table, table_uri \u001b[38;5;241m=\u001b[39m \u001b[43mtry_get_table_and_table_uri\u001b[49m\u001b[43m(\u001b[49m\u001b[43mtable_or_uri\u001b[49m\u001b[43m,\u001b[49m\u001b[43m \u001b[49m\u001b[43mstorage_options\u001b[49m\u001b[43m)\u001b[49m\n\u001b[1;32m    266\u001b[0m     \u001b[38;5;28;01mif\u001b[39;00m table \u001b[38;5;129;01mis\u001b[39;00m \u001b[38;5;129;01mnot\u001b[39;00m \u001b[38;5;28;01mNone\u001b[39;00m:\n\u001b[1;32m    267\u001b[0m         storage_options \u001b[38;5;241m=\u001b[39m table\u001b[38;5;241m.\u001b[39m_storage_options \u001b[38;5;129;01mor\u001b[39;00m {}\n",
      "File \u001b[0;32m/workspaces/depictio/.venv/lib/python3.11/site-packages/deltalake/writer.py:688\u001b[0m, in \u001b[0;36mtry_get_table_and_table_uri\u001b[0;34m(table_or_uri, storage_options)\u001b[0m\n\u001b[1;32m    685\u001b[0m     \u001b[38;5;28;01mraise\u001b[39;00m \u001b[38;5;167;01mValueError\u001b[39;00m(\u001b[38;5;124m\"\u001b[39m\u001b[38;5;124mtable_or_uri must be a str, Path or DeltaTable\u001b[39m\u001b[38;5;124m\"\u001b[39m)\n\u001b[1;32m    687\u001b[0m \u001b[38;5;28;01mif\u001b[39;00m \u001b[38;5;28misinstance\u001b[39m(table_or_uri, (\u001b[38;5;28mstr\u001b[39m, Path)):\n\u001b[0;32m--> 688\u001b[0m     table \u001b[38;5;241m=\u001b[39m \u001b[43mtry_get_deltatable\u001b[49m\u001b[43m(\u001b[49m\u001b[43mtable_or_uri\u001b[49m\u001b[43m,\u001b[49m\u001b[43m \u001b[49m\u001b[43mstorage_options\u001b[49m\u001b[43m)\u001b[49m\n\u001b[1;32m    689\u001b[0m     table_uri \u001b[38;5;241m=\u001b[39m \u001b[38;5;28mstr\u001b[39m(table_or_uri)\n\u001b[1;32m    690\u001b[0m \u001b[38;5;28;01melse\u001b[39;00m:\n",
      "File \u001b[0;32m/workspaces/depictio/.venv/lib/python3.11/site-packages/deltalake/writer.py:701\u001b[0m, in \u001b[0;36mtry_get_deltatable\u001b[0;34m(table_uri, storage_options)\u001b[0m\n\u001b[1;32m    697\u001b[0m \u001b[38;5;28;01mdef\u001b[39;00m \u001b[38;5;21mtry_get_deltatable\u001b[39m(\n\u001b[1;32m    698\u001b[0m     table_uri: Union[\u001b[38;5;28mstr\u001b[39m, Path], storage_options: Optional[Dict[\u001b[38;5;28mstr\u001b[39m, \u001b[38;5;28mstr\u001b[39m]]\n\u001b[1;32m    699\u001b[0m ) \u001b[38;5;241m-\u001b[39m\u001b[38;5;241m>\u001b[39m Optional[DeltaTable]:\n\u001b[1;32m    700\u001b[0m     \u001b[38;5;28;01mtry\u001b[39;00m:\n\u001b[0;32m--> 701\u001b[0m         \u001b[38;5;28;01mreturn\u001b[39;00m \u001b[43mDeltaTable\u001b[49m\u001b[43m(\u001b[49m\u001b[43mtable_uri\u001b[49m\u001b[43m,\u001b[49m\u001b[43m \u001b[49m\u001b[43mstorage_options\u001b[49m\u001b[38;5;241;43m=\u001b[39;49m\u001b[43mstorage_options\u001b[49m\u001b[43m)\u001b[49m\n\u001b[1;32m    702\u001b[0m     \u001b[38;5;28;01mexcept\u001b[39;00m TableNotFoundError:\n\u001b[1;32m    703\u001b[0m         \u001b[38;5;28;01mreturn\u001b[39;00m \u001b[38;5;28;01mNone\u001b[39;00m\n",
      "File \u001b[0;32m/workspaces/depictio/.venv/lib/python3.11/site-packages/deltalake/table.py:405\u001b[0m, in \u001b[0;36mDeltaTable.__init__\u001b[0;34m(self, table_uri, version, storage_options, without_files, log_buffer_size)\u001b[0m\n\u001b[1;32m    385\u001b[0m \u001b[38;5;250m\u001b[39m\u001b[38;5;124;03m\"\"\"\u001b[39;00m\n\u001b[1;32m    386\u001b[0m \u001b[38;5;124;03mCreate the Delta Table from a path with an optional version.\u001b[39;00m\n\u001b[1;32m    387\u001b[0m \u001b[38;5;124;03mMultiple StorageBackends are currently supported: AWS S3, Azure Data Lake Storage Gen2, Google Cloud Storage (GCS) and local URI.\u001b[39;00m\n\u001b[0;32m   (...)\u001b[0m\n\u001b[1;32m    402\u001b[0m \n\u001b[1;32m    403\u001b[0m \u001b[38;5;124;03m\"\"\"\u001b[39;00m\n\u001b[1;32m    404\u001b[0m \u001b[38;5;28mself\u001b[39m\u001b[38;5;241m.\u001b[39m_storage_options \u001b[38;5;241m=\u001b[39m storage_options\n\u001b[0;32m--> 405\u001b[0m \u001b[38;5;28mself\u001b[39m\u001b[38;5;241m.\u001b[39m_table \u001b[38;5;241m=\u001b[39m \u001b[43mRawDeltaTable\u001b[49m\u001b[43m(\u001b[49m\n\u001b[1;32m    406\u001b[0m \u001b[43m    \u001b[49m\u001b[38;5;28;43mstr\u001b[39;49m\u001b[43m(\u001b[49m\u001b[43mtable_uri\u001b[49m\u001b[43m)\u001b[49m\u001b[43m,\u001b[49m\n\u001b[1;32m    407\u001b[0m \u001b[43m    \u001b[49m\u001b[43mversion\u001b[49m\u001b[38;5;241;43m=\u001b[39;49m\u001b[43mversion\u001b[49m\u001b[43m,\u001b[49m\n\u001b[1;32m    408\u001b[0m \u001b[43m    \u001b[49m\u001b[43mstorage_options\u001b[49m\u001b[38;5;241;43m=\u001b[39;49m\u001b[43mstorage_options\u001b[49m\u001b[43m,\u001b[49m\n\u001b[1;32m    409\u001b[0m \u001b[43m    \u001b[49m\u001b[43mwithout_files\u001b[49m\u001b[38;5;241;43m=\u001b[39;49m\u001b[43mwithout_files\u001b[49m\u001b[43m,\u001b[49m\n\u001b[1;32m    410\u001b[0m \u001b[43m    \u001b[49m\u001b[43mlog_buffer_size\u001b[49m\u001b[38;5;241;43m=\u001b[39;49m\u001b[43mlog_buffer_size\u001b[49m\u001b[43m,\u001b[49m\n\u001b[1;32m    411\u001b[0m \u001b[43m\u001b[49m\u001b[43m)\u001b[49m\n",
      "\u001b[0;31mOSError\u001b[0m: Generic S3 error: Client error with status 403 Forbidden: <?xml version=\"1.0\" encoding=\"UTF-8\"?>\n<Error><Code>InvalidTokenId</Code><Message>The security token included in the request is invalid</Message><Key>TEST/delta-table/_delta_log/_last_checkpoint</Key><BucketName>depictio-bucket</BucketName><Resource>/depictio-bucket/TEST/delta-table/_delta_log/_last_checkpoint</Resource><RequestId>17D272C149DBA6AB</RequestId><HostId>dd9025bab4ad464b049177c95eb6ebf374d3b3fd1af9251148b658df7ac2e3e8</HostId></Error>"
     ]
    }
   ],
   "source": [
    "import os\n",
    "import polars as pl\n",
    "\n",
    "# Set environment variables to avoid using IMDS\n",
    "os.environ[\"AWS_ACCESS_KEY_ID\"] = \"minio\"\n",
    "os.environ[\"AWS_SECRET_ACCESS_KEY\"] = \"minio123\"\n",
    "os.environ[\"AWS_REGION\"] = \"us-east-1\"\n",
    "os.environ[\"AWS_S3_USE_ARN_REGION\"] = \"true\"\n",
    "os.environ[\"AWS_ALLOW_HTTP\"] = \"true\"\n",
    "\n",
    "minio_storage_options = {\n",
    "    \"endpoint_url\": \"http://localhost:9000\",\n",
    "    \"aws_access_key_id\": \"minio\",\n",
    "    \"aws_secret_key_id\": \"minio123\",\n",
    "    \"use_ssl\": \"false\",\n",
    "    \"AWS_REGION\": \"us-east-1\",\n",
    "    \"signature_version\": \"s3v4\",\n",
    "    # \"AWS_ALLOW_HTTP\": \"true\",\n",
    "    # \"AWS_S3_ALLOW_UNSAFE_RENAME\": \"true\",\n",
    "}\n",
    "\n",
    "df = pl.DataFrame(\n",
    "    {\n",
    "        \"foo\": [1, 2, 3, 4, 5],\n",
    "        \"bar\": [6, 7, 8, 9, 10],\n",
    "        \"ham\": [\"a\", \"b\", \"c\", \"d\", \"e\"],\n",
    "    }\n",
    ")\n",
    "import os \n",
    "os.makedirs(\"../../minio_data/depictio-bucket/TEST/\", exist_ok=True)\n",
    "df\n",
    "df.write_delta(\n",
    "    \"../../minio_data/depictio-bucket/TEST/delta-table/\", mode=\"overwrite\", delta_write_options={\"overwrite_schema\": \"True\"}\n",
    "    # storage_options=minio_storage_options,\n",
    ")\n",
    "import deltalake\n",
    "df = deltalake.DeltaTable(\"../../minio_data/depictio-bucket/TEST/delta-table/\")\n",
    "deltalake.write_deltalake(\"../../minio_data/depictio-bucket/TEST/delta-table/\", mode=\"overwrite\", overwrite_schema=True, data=df.to_pandas())\n",
    "\n",
    "os.environ[\"AWS_ALLOW_HTTP\"] = \"true\"\n",
    "os.environ[\"AWS_S3_ALLOW_UNSAFE_RENAME\"] = \"true\"\n",
    "deltalake.write_deltalake(\"s3://depictio-bucket/TEST/delta-table/\", mode=\"overwrite\", overwrite_schema=True, storage_options=minio_storage_options, data=df.to_pandas())\n",
    "df.to_pandas()\n",
    "\n",
    "# pl.scan_parquet(\n",
    "#     \"s3://depictio-bucket/TEST/delta-table.parquet\",\n",
    "#     storage_options={    \"endpoint_url\": \"http://localhost:9000\",\n",
    "#     \"aws_access_key_id\": \"admin\",\n",
    "#     \"aws_secret_access_key\": \"alpiance\"},\n",
    "# )\n"
   ]
  },
  {
   "cell_type": "code",
   "execution_count": 6,
   "metadata": {},
   "outputs": [
    {
     "name": "stdout",
     "output_type": "stream",
     "text": [
      "Error occurred: S3 operation failed; code: BucketAlreadyOwnedByYou, message: Your previous request to create the named bucket succeeded and you already own it., resource: /new-bucket, request_id: 17D27375B0A363C3, host_id: dd9025bab4ad464b049177c95eb6ebf374d3b3fd1af9251148b658df7ac2e3e8, bucket_name: new-bucket\n"
     ]
    }
   ],
   "source": [
    "from minio import Minio\n",
    "from minio.error import S3Error\n",
    "\n",
    "# Create a MinIO client\n",
    "minio_client = Minio(\n",
    "    \"localhost:9000\",\n",
    "    access_key=\"minio\",\n",
    "    secret_key=\"minio123\",\n",
    "    secure=False\n",
    ")\n",
    "\n",
    "# Create a new bucket\n",
    "bucket_name = \"new-bucket\"\n",
    "try:\n",
    "    minio_client.make_bucket(bucket_name)\n",
    "    print(f\"Bucket '{bucket_name}' created successfully.\")\n",
    "except S3Error as e:\n",
    "    print(f\"Error occurred: {e}\")\n"
   ]
  },
  {
   "cell_type": "code",
   "execution_count": 21,
   "metadata": {},
   "outputs": [
    {
     "name": "stdout",
     "output_type": "stream",
     "text": [
      "\u001b]11;?\u001b\\\u001b[6n\u001b[m\u001b[32mAdded `myminio` successfully.\u001b[0m\u001b[m\n",
      "\u001b]11;?\u001b\\\u001b[6n\u001b[m\u001b[32mAdded user `newuser` successfully.\u001b[0m\u001b[m\n",
      "\u001b]11;?\u001b\\\u001b[6n\u001b[31;3;1mmc: <ERROR> \u001b[0m\u001b[31;3;1mInvalid command usage, flag provided but not defined: -user\n",
      "\n",
      "SUPPORTED FLAGS:\n",
      "   --config-dir value, -C value  path to configuration folder (default: \"/home/vscode/.mc\") [$MC_CONFIG_DIR]\n",
      "   --quiet, -q                   disable progress bar display [$MC_QUIET]\n",
      "   --disable-pager, --dp         disable mc internal pager and print to raw stdout [$MC_DISABLE_PAGER]\n",
      "   --no-color                    disable color theme [$MC_NO_COLOR]\n",
      "   --json                        enable JSON lines formatted output [$MC_JSON]\n",
      "   --debug                       enable debug output [$MC_DEBUG]\n",
      "   --insecure                    disable SSL certificate verification [$MC_INSECURE]\n",
      "   --limit-upload value          limits uploads to a maximum rate in KiB/s, MiB/s, GiB/s. (default: unlimited) [$MC_LIMIT_UPLOAD]\n",
      "   --limit-download value        limits downloads to a maximum rate in KiB/s, MiB/s, GiB/s. (default: unlimited) [$MC_LIMIT_DOWNLOAD]\n",
      "   --help, -h                    show help\n",
      "\u001b[0m"
     ]
    }
   ],
   "source": [
    "# Add alias\n",
    "!/workspaces/depictio/mc alias set myminio http://localhost:9000 minio minio123\n",
    "\n",
    "# Add a new user\n",
    "!/workspaces/depictio/mc admin user add myminio newuser newuser123\n"
   ]
  },
  {
   "cell_type": "code",
   "execution_count": 27,
   "metadata": {},
   "outputs": [
    {
     "name": "stdout",
     "output_type": "stream",
     "text": [
      "Requirement already satisfied: deltalake in /workspaces/depictio/.venv/lib/python3.11/site-packages (0.17.4)\n",
      "Requirement already satisfied: polars in /workspaces/depictio/.venv/lib/python3.11/site-packages (0.20.29)\n",
      "Collecting s3fs\n",
      "  Downloading s3fs-2024.5.0-py3-none-any.whl.metadata (1.6 kB)\n",
      "Requirement already satisfied: pyarrow>=8 in /workspaces/depictio/.venv/lib/python3.11/site-packages (from deltalake) (16.1.0)\n",
      "Requirement already satisfied: pyarrow-hotfix in /workspaces/depictio/.venv/lib/python3.11/site-packages (from deltalake) (0.6)\n",
      "Collecting aiobotocore<3.0.0,>=2.5.4 (from s3fs)\n",
      "  Downloading aiobotocore-2.13.0-py3-none-any.whl.metadata (21 kB)\n",
      "Collecting fsspec==2024.5.0.* (from s3fs)\n",
      "  Downloading fsspec-2024.5.0-py3-none-any.whl.metadata (11 kB)\n",
      "Collecting aiohttp!=4.0.0a0,!=4.0.0a1 (from s3fs)\n",
      "  Downloading aiohttp-3.9.5-cp311-cp311-manylinux_2_17_x86_64.manylinux2014_x86_64.whl.metadata (7.5 kB)\n"
     ]
    }
   ],
   "source": [
    "!pip install deltalake polars s3fs\n"
   ]
  },
  {
   "cell_type": "code",
   "execution_count": 10,
   "metadata": {},
   "outputs": [
    {
     "name": "stdout",
     "output_type": "stream",
     "text": [
      "File 'testfile.txt' uploaded successfully to bucket 'new-bucket'.\n",
      "File 'testfile.txt' downloaded successfully with content: Hello, this is a test file.\n",
      "Error occurred while writing Delta table: Generic S3 error: Client error with status 403 Forbidden: <?xml version=\"1.0\" encoding=\"UTF-8\"?>\n",
      "<Error><Code>InvalidTokenId</Code><Message>The security token included in the request is invalid</Message><Key>delta-table/_delta_log/_last_checkpoint</Key><BucketName>new-bucket</BucketName><Resource>/new-bucket/delta-table/_delta_log/_last_checkpoint</Resource><RequestId>17D273FF272218D4</RequestId><HostId>dd9025bab4ad464b049177c95eb6ebf374d3b3fd1af9251148b658df7ac2e3e8</HostId></Error>\n"
     ]
    }
   ],
   "source": [
    "from minio import Minio\n",
    "from minio.error import S3Error\n",
    "import io\n",
    "import polars as pl\n",
    "import deltalake\n",
    "\n",
    "!unset AWS_ACCESS_KEY_ID\n",
    "!unset AWS_SECRET_ACCESS_KEY\n",
    "!unset AWS_SESSION_TOKEN\n",
    "!unset AWS_SECURITY_TOKEN\n",
    "\n",
    "\n",
    "# Create a new MinIO client with the new user's credentials\n",
    "new_user_client = Minio(\n",
    "    \"localhost:9000\",\n",
    "    access_key=\"newuser\",\n",
    "    secret_key=\"newuser123\",\n",
    "    secure=False\n",
    ")\n",
    "\n",
    "# Verify write access by uploading a file\n",
    "file_name = \"testfile.txt\"\n",
    "content = b\"Hello, this is a test file.\"\n",
    "content_stream = io.BytesIO(content)\n",
    "\n",
    "try:\n",
    "    new_user_client.put_object(bucket_name, file_name, data=content_stream, length=len(content))\n",
    "    print(f\"File '{file_name}' uploaded successfully to bucket '{bucket_name}'.\")\n",
    "except S3Error as e:\n",
    "    print(f\"Error occurred during upload: {e}\")\n",
    "\n",
    "# Verify read access by downloading the file\n",
    "try:\n",
    "    response = new_user_client.get_object(bucket_name, file_name)\n",
    "    data = response.read()\n",
    "    print(f\"File '{file_name}' downloaded successfully with content: {data.decode('utf-8')}\")\n",
    "except S3Error as e:\n",
    "    print(f\"Error occurred during download: {e}\")\n",
    "\n",
    "# Write a DeltaLake table using the new user's credentials\n",
    "minio_storage_options = {\n",
    "    \"endpoint_url\": \"http://localhost:9000\",\n",
    "    \"aws_access_key_id\": \"minio\",\n",
    "    \"aws_secret_access_key\": \"minio123\",\n",
    "    \"use_ssl\": \"False\",\n",
    "    \"region_name\": \"us-east-1\",\n",
    "    \"signature_version\": \"s3v4\",\n",
    "    \"aws_s3_allow_unsafe_rename\": \"true\",\n",
    "    \"aws_s3_use_arn_region\": \"true\",\n",
    "    \"aws_allow_http\": \"true\",\n",
    "}\n",
    "\n",
    "df = pl.DataFrame(\n",
    "    {\n",
    "        \"foo\": [1, 2, 3, 4, 5],\n",
    "        \"bar\": [6, 7, 8, 9, 10],\n",
    "        \"ham\": [\"a\", \"b\", \"c\", \"d\", \"e\"],\n",
    "    }\n",
    ")\n",
    "\n",
    "try:\n",
    "    deltalake.write_deltalake(f\"s3://{bucket_name}/delta-table/\", mode=\"overwrite\", overwrite_schema=True, storage_options=minio_storage_options, data=df.to_pandas())\n",
    "    print(f\"Delta table written successfully to bucket '{bucket_name}'.\")\n",
    "except Exception as e:\n",
    "    print(f\"Error occurred while writing Delta table: {e}\")\n"
   ]
  },
  {
   "cell_type": "code",
   "execution_count": 4,
   "metadata": {},
   "outputs": [
    {
     "name": "stdout",
     "output_type": "stream",
     "text": [
      "Error occurred while writing Delta table: Generic S3 error: Client error with status 403 Forbidden: <?xml version=\"1.0\" encoding=\"UTF-8\"?>\n",
      "<Error><Code>InvalidTokenId</Code><Message>The security token included in the request is invalid</Message><Key>delta-table/_delta_log/_last_checkpoint</Key><BucketName>new-bucket</BucketName><Resource>/new-bucket/delta-table/_delta_log/_last_checkpoint</Resource><RequestId>17D27366A541C4DE</RequestId><HostId>dd9025bab4ad464b049177c95eb6ebf374d3b3fd1af9251148b658df7ac2e3e8</HostId></Error>\n"
     ]
    }
   ],
   "source": [
    "import logging\n",
    "import boto3\n",
    "import deltalake\n",
    "import polars as pl\n",
    "\n",
    "\n",
    "\n",
    "# Enable logging\n",
    "boto3.set_stream_logger(name='botocore', level=logging.DEBUG)\n",
    "\n",
    "minio_storage_options = {\n",
    "    \"endpoint_url\": \"http://localhost:9000\",\n",
    "    \"aws_access_key_id\": \"cC1SHgv2W8XuG8izXXs1\",\n",
    "    \"aws_secret_access_key\": \"xZEk76sQ4fZf5Qv9vUKcyRqStNjOoLFHRIRkcXJe\",\n",
    "    \"use_ssl\": \"False\",\n",
    "    \"region_name\": \"us-east-1\",\n",
    "    \"signature_version\": \"s3v4\",\n",
    "    \"aws_s3_allow_unsafe_rename\": \"true\",\n",
    "    \"aws_s3_use_arn_region\": \"true\",\n",
    "    \"aws_allow_http\": \"true\",\n",
    "}\n",
    "\n",
    "\n",
    "df = pl.DataFrame(\n",
    "    {\n",
    "        \"foo\": [1, 2, 3, 4, 5],\n",
    "        \"bar\": [6, 7, 8, 9, 10],\n",
    "        \"ham\": [\"a\", \"b\", \"c\", \"d\", \"e\"],\n",
    "    }\n",
    ")\n",
    "\n",
    "try:\n",
    "    deltalake.write_deltalake(\n",
    "        \"s3://new-bucket/delta-table/\",\n",
    "        data=df.to_pandas(),\n",
    "        mode=\"overwrite\",\n",
    "        storage_options=minio_storage_options\n",
    "    )\n",
    "    print(\"Delta table written successfully to S3.\")\n",
    "except Exception as e:\n",
    "    print(f\"Error occurred while writing Delta table: {e}\")"
   ]
  }
 ],
 "metadata": {
  "kernelspec": {
   "display_name": ".venv",
   "language": "python",
   "name": "python3"
  },
  "language_info": {
   "codemirror_mode": {
    "name": "ipython",
    "version": 3
   },
   "file_extension": ".py",
   "mimetype": "text/x-python",
   "name": "python",
   "nbconvert_exporter": "python",
   "pygments_lexer": "ipython3",
   "version": "3.11.9"
  }
 },
 "nbformat": 4,
 "nbformat_minor": 2
}
