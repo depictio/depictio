{
 "cells": [
  {
   "cell_type": "code",
   "execution_count": 5,
   "metadata": {},
   "outputs": [
    {
     "ename": "AttributeError",
     "evalue": "'S3' object has no attribute 'Session'",
     "output_type": "error",
     "traceback": [
      "\u001b[0;31m---------------------------------------------------------------------------\u001b[0m",
      "\u001b[0;31mAttributeError\u001b[0m                            Traceback (most recent call last)",
      "Cell \u001b[0;32mIn[5], line 19\u001b[0m\n\u001b[1;32m     12\u001b[0m \u001b[38;5;66;03m# Create an S3 client\u001b[39;00m\n\u001b[1;32m     13\u001b[0m s3_client \u001b[38;5;241m=\u001b[39m boto3\u001b[38;5;241m.\u001b[39mclient(\u001b[38;5;124m'\u001b[39m\u001b[38;5;124ms3\u001b[39m\u001b[38;5;124m'\u001b[39m,\n\u001b[1;32m     14\u001b[0m                          endpoint_url\u001b[38;5;241m=\u001b[39mendpoint_url,\n\u001b[1;32m     15\u001b[0m                          aws_access_key_id\u001b[38;5;241m=\u001b[39maccess_key,\n\u001b[1;32m     16\u001b[0m                          aws_secret_access_key\u001b[38;5;241m=\u001b[39msecret_key,\n\u001b[1;32m     17\u001b[0m                          region_name\u001b[38;5;241m=\u001b[39m\u001b[38;5;124m'\u001b[39m\u001b[38;5;124mus-east-1\u001b[39m\u001b[38;5;124m'\u001b[39m)  \u001b[38;5;66;03m# Region name can be any string\u001b[39;00m\n\u001b[0;32m---> 19\u001b[0m session \u001b[38;5;241m=\u001b[39m \u001b[43ms3_client\u001b[49m\u001b[38;5;241;43m.\u001b[39;49m\u001b[43mSession\u001b[49m()\n\u001b[1;32m     20\u001b[0m credentials \u001b[38;5;241m=\u001b[39m session\u001b[38;5;241m.\u001b[39mget_credentials()\n\u001b[1;32m     21\u001b[0m \u001b[38;5;28mprint\u001b[39m(credentials)\n",
      "File \u001b[0;32m~/miniconda3/envs/depictio_dev/lib/python3.11/site-packages/botocore/client.py:906\u001b[0m, in \u001b[0;36mBaseClient.__getattr__\u001b[0;34m(self, item)\u001b[0m\n\u001b[1;32m    903\u001b[0m \u001b[38;5;28;01mif\u001b[39;00m event_response \u001b[38;5;129;01mis\u001b[39;00m \u001b[38;5;129;01mnot\u001b[39;00m \u001b[38;5;28;01mNone\u001b[39;00m:\n\u001b[1;32m    904\u001b[0m     \u001b[38;5;28;01mreturn\u001b[39;00m event_response\n\u001b[0;32m--> 906\u001b[0m \u001b[38;5;28;01mraise\u001b[39;00m \u001b[38;5;167;01mAttributeError\u001b[39;00m(\n\u001b[1;32m    907\u001b[0m     \u001b[38;5;124mf\u001b[39m\u001b[38;5;124m\"\u001b[39m\u001b[38;5;124m'\u001b[39m\u001b[38;5;132;01m{\u001b[39;00m\u001b[38;5;28mself\u001b[39m\u001b[38;5;241m.\u001b[39m\u001b[38;5;18m__class__\u001b[39m\u001b[38;5;241m.\u001b[39m\u001b[38;5;18m__name__\u001b[39m\u001b[38;5;132;01m}\u001b[39;00m\u001b[38;5;124m'\u001b[39m\u001b[38;5;124m object has no attribute \u001b[39m\u001b[38;5;124m'\u001b[39m\u001b[38;5;132;01m{\u001b[39;00mitem\u001b[38;5;132;01m}\u001b[39;00m\u001b[38;5;124m'\u001b[39m\u001b[38;5;124m\"\u001b[39m\n\u001b[1;32m    908\u001b[0m )\n",
      "\u001b[0;31mAttributeError\u001b[0m: 'S3' object has no attribute 'Session'"
     ]
    }
   ],
   "source": [
    "\n",
    "import s3fs\n",
    "import pandas\n",
    "import polars as pl\n",
    "import pyarrow.dataset as ds\n",
    "\n",
    "fs = s3fs.S3FileSystem(profile=\"aws_profile_name\")\n",
    "bucket = \"<S3_BUCKET_NAME>\"\n",
    "path = \"<S3_PATH>/partition=<S3_PARTITION>\"\n",
    "\n",
    "s3_endpoint = f\"s3://{bucket}/{path}\"\n",
    "\n",
    "myds = ds.dataset([y for y in fs.ls(s3_endpoint) if \".parquet\" in y], filesystem=fs)\n",
    "lazy_df = pl.scan_ds(myds)\n",
    "\n",
    "df = lazy_df.select(pl.col('*')).collect()\n",
    "\n",
    "print(df)"
   ]
  },
  {
   "cell_type": "code",
   "execution_count": null,
   "metadata": {},
   "outputs": [],
   "source": [
    "import boto3\n",
    "import polars as pl\n",
    "\n",
    "\n",
    "# Your MinIO/S3 credentials and bucket details\n",
    "endpoint_url = 'http://localhost:9000'  # Your MinIO endpoint\n",
    "access_key = 'minio_debug'\n",
    "secret_key = 'minio123'\n",
    "bucket_name = 'depictio-bucket'\n",
    "object_key = '64a842842bf4fa7deaa3dbed'  # The name of the file you want to read\n",
    "\n",
    "# Create an S3 client\n",
    "s3_client = boto3.client('s3',\n",
    "                         endpoint_url=endpoint_url,\n",
    "                         aws_access_key_id=access_key,\n",
    "                         aws_secret_access_key=secret_key,\n",
    "                         region_name='us-east-1')  # Region name can be any string\n",
    "\n",
    "session = boto3.session.Session()\n",
    "credentials = session.get_credentials()\n",
    "\n",
    "df = pl.scan_parquet(\n",
    "    \"s3://coiled-data/uber/*.parquet\",\n",
    "    storage_options={\n",
    "        \"aws_access_key_id\": credentials.access_key,\n",
    "        \"aws_secret_access_key\": credentials.secret_key,\n",
    "        \"region\": \"us-east-2\",\n",
    "        \"session_token\": credentials.token,\n",
    "    },\n",
    ")"
   ]
  },
  {
   "cell_type": "code",
   "execution_count": 1,
   "metadata": {},
   "outputs": [
    {
     "ename": "OSError",
     "evalue": "Generic S3 error: Client error with status 403 Forbidden: <?xml version=\"1.0\" encoding=\"UTF-8\"?>\n<Error><Code>InvalidAccessKeyId</Code><Message>The AWS Access Key Id you provided does not exist in our records.</Message><AWSAccessKeyId>DSj0vuC7bfMUGZpX2L4h</AWSAccessKeyId><RequestId>SMJJE2JNPAQMWSAX</RequestId><HostId>ZlPsIp4cYlVawh1iIJw1MqRwqYKLD5Yn3bwuQnAyz9T7R6zt2M5+W1L1rqoetln8ETSfUx97cGQ=</HostId></Error>",
     "output_type": "error",
     "traceback": [
      "\u001b[0;31m---------------------------------------------------------------------------\u001b[0m",
      "\u001b[0;31mOSError\u001b[0m                                   Traceback (most recent call last)",
      "Cell \u001b[0;32mIn[1], line 14\u001b[0m\n\u001b[1;32m     11\u001b[0m \u001b[38;5;28;01mimport\u001b[39;00m \u001b[38;5;21;01mpolars\u001b[39;00m \u001b[38;5;28;01mas\u001b[39;00m \u001b[38;5;21;01mpl\u001b[39;00m\n\u001b[1;32m     13\u001b[0m \u001b[38;5;66;03m# Now attempt to read the Delta table\u001b[39;00m\n\u001b[0;32m---> 14\u001b[0m df \u001b[38;5;241m=\u001b[39m \u001b[43mpl\u001b[49m\u001b[38;5;241;43m.\u001b[39;49m\u001b[43mread_delta\u001b[49m\u001b[43m(\u001b[49m\u001b[38;5;124;43m\"\u001b[39;49m\u001b[38;5;124;43ms3://depictio-bucket/64a842842bf4fa7deaa3dbed/65c4ef0f26d99f46c993a5af/65c4ef0f26d99f46c993a5b0\u001b[39;49m\u001b[38;5;124;43m\"\u001b[39;49m\u001b[43m)\u001b[49m\n\u001b[1;32m     15\u001b[0m df\n",
      "File \u001b[0;32m~/miniconda3/envs/depictio_dev/lib/python3.11/site-packages/polars/io/delta.py:132\u001b[0m, in \u001b[0;36mread_delta\u001b[0;34m(source, version, columns, storage_options, delta_table_options, pyarrow_options)\u001b[0m\n\u001b[1;32m    128\u001b[0m     pyarrow_options \u001b[38;5;241m=\u001b[39m {}\n\u001b[1;32m    130\u001b[0m resolved_uri \u001b[38;5;241m=\u001b[39m _resolve_delta_lake_uri(source)\n\u001b[0;32m--> 132\u001b[0m dl_tbl \u001b[38;5;241m=\u001b[39m \u001b[43m_get_delta_lake_table\u001b[49m\u001b[43m(\u001b[49m\n\u001b[1;32m    133\u001b[0m \u001b[43m    \u001b[49m\u001b[43mtable_path\u001b[49m\u001b[38;5;241;43m=\u001b[39;49m\u001b[43mresolved_uri\u001b[49m\u001b[43m,\u001b[49m\n\u001b[1;32m    134\u001b[0m \u001b[43m    \u001b[49m\u001b[43mversion\u001b[49m\u001b[38;5;241;43m=\u001b[39;49m\u001b[43mversion\u001b[49m\u001b[43m,\u001b[49m\n\u001b[1;32m    135\u001b[0m \u001b[43m    \u001b[49m\u001b[43mstorage_options\u001b[49m\u001b[38;5;241;43m=\u001b[39;49m\u001b[43mstorage_options\u001b[49m\u001b[43m,\u001b[49m\n\u001b[1;32m    136\u001b[0m \u001b[43m    \u001b[49m\u001b[43mdelta_table_options\u001b[49m\u001b[38;5;241;43m=\u001b[39;49m\u001b[43mdelta_table_options\u001b[49m\u001b[43m,\u001b[49m\n\u001b[1;32m    137\u001b[0m \u001b[43m\u001b[49m\u001b[43m)\u001b[49m\n\u001b[1;32m    139\u001b[0m \u001b[38;5;28;01mreturn\u001b[39;00m from_arrow(dl_tbl\u001b[38;5;241m.\u001b[39mto_pyarrow_table(columns\u001b[38;5;241m=\u001b[39mcolumns, \u001b[38;5;241m*\u001b[39m\u001b[38;5;241m*\u001b[39mpyarrow_options))\n",
      "File \u001b[0;32m~/miniconda3/envs/depictio_dev/lib/python3.11/site-packages/polars/io/delta.py:301\u001b[0m, in \u001b[0;36m_get_delta_lake_table\u001b[0;34m(table_path, version, storage_options, delta_table_options)\u001b[0m\n\u001b[1;32m    298\u001b[0m \u001b[38;5;28;01mif\u001b[39;00m delta_table_options \u001b[38;5;129;01mis\u001b[39;00m \u001b[38;5;28;01mNone\u001b[39;00m:\n\u001b[1;32m    299\u001b[0m     delta_table_options \u001b[38;5;241m=\u001b[39m {}\n\u001b[0;32m--> 301\u001b[0m dl_tbl \u001b[38;5;241m=\u001b[39m \u001b[43mdeltalake\u001b[49m\u001b[38;5;241;43m.\u001b[39;49m\u001b[43mDeltaTable\u001b[49m\u001b[43m(\u001b[49m\n\u001b[1;32m    302\u001b[0m \u001b[43m    \u001b[49m\u001b[43mtable_path\u001b[49m\u001b[43m,\u001b[49m\n\u001b[1;32m    303\u001b[0m \u001b[43m    \u001b[49m\u001b[43mversion\u001b[49m\u001b[38;5;241;43m=\u001b[39;49m\u001b[43mversion\u001b[49m\u001b[43m,\u001b[49m\n\u001b[1;32m    304\u001b[0m \u001b[43m    \u001b[49m\u001b[43mstorage_options\u001b[49m\u001b[38;5;241;43m=\u001b[39;49m\u001b[43mstorage_options\u001b[49m\u001b[43m,\u001b[49m\n\u001b[1;32m    305\u001b[0m \u001b[43m    \u001b[49m\u001b[38;5;241;43m*\u001b[39;49m\u001b[38;5;241;43m*\u001b[39;49m\u001b[43mdelta_table_options\u001b[49m\u001b[43m,\u001b[49m\n\u001b[1;32m    306\u001b[0m \u001b[43m\u001b[49m\u001b[43m)\u001b[49m\n\u001b[1;32m    308\u001b[0m \u001b[38;5;28;01mreturn\u001b[39;00m dl_tbl\n",
      "File \u001b[0;32m~/miniconda3/envs/depictio_dev/lib/python3.11/site-packages/deltalake/table.py:396\u001b[0m, in \u001b[0;36mDeltaTable.__init__\u001b[0;34m(self, table_uri, version, storage_options, without_files, log_buffer_size)\u001b[0m\n\u001b[1;32m    376\u001b[0m \u001b[38;5;250m\u001b[39m\u001b[38;5;124;03m\"\"\"\u001b[39;00m\n\u001b[1;32m    377\u001b[0m \u001b[38;5;124;03mCreate the Delta Table from a path with an optional version.\u001b[39;00m\n\u001b[1;32m    378\u001b[0m \u001b[38;5;124;03mMultiple StorageBackends are currently supported: AWS S3, Azure Data Lake Storage Gen2, Google Cloud Storage (GCS) and local URI.\u001b[39;00m\n\u001b[0;32m   (...)\u001b[0m\n\u001b[1;32m    393\u001b[0m \n\u001b[1;32m    394\u001b[0m \u001b[38;5;124;03m\"\"\"\u001b[39;00m\n\u001b[1;32m    395\u001b[0m \u001b[38;5;28mself\u001b[39m\u001b[38;5;241m.\u001b[39m_storage_options \u001b[38;5;241m=\u001b[39m storage_options\n\u001b[0;32m--> 396\u001b[0m \u001b[38;5;28mself\u001b[39m\u001b[38;5;241m.\u001b[39m_table \u001b[38;5;241m=\u001b[39m \u001b[43mRawDeltaTable\u001b[49m\u001b[43m(\u001b[49m\n\u001b[1;32m    397\u001b[0m \u001b[43m    \u001b[49m\u001b[38;5;28;43mstr\u001b[39;49m\u001b[43m(\u001b[49m\u001b[43mtable_uri\u001b[49m\u001b[43m)\u001b[49m\u001b[43m,\u001b[49m\n\u001b[1;32m    398\u001b[0m \u001b[43m    \u001b[49m\u001b[43mversion\u001b[49m\u001b[38;5;241;43m=\u001b[39;49m\u001b[43mversion\u001b[49m\u001b[43m,\u001b[49m\n\u001b[1;32m    399\u001b[0m \u001b[43m    \u001b[49m\u001b[43mstorage_options\u001b[49m\u001b[38;5;241;43m=\u001b[39;49m\u001b[43mstorage_options\u001b[49m\u001b[43m,\u001b[49m\n\u001b[1;32m    400\u001b[0m \u001b[43m    \u001b[49m\u001b[43mwithout_files\u001b[49m\u001b[38;5;241;43m=\u001b[39;49m\u001b[43mwithout_files\u001b[49m\u001b[43m,\u001b[49m\n\u001b[1;32m    401\u001b[0m \u001b[43m    \u001b[49m\u001b[43mlog_buffer_size\u001b[49m\u001b[38;5;241;43m=\u001b[39;49m\u001b[43mlog_buffer_size\u001b[49m\u001b[43m,\u001b[49m\n\u001b[1;32m    402\u001b[0m \u001b[43m\u001b[49m\u001b[43m)\u001b[49m\n",
      "\u001b[0;31mOSError\u001b[0m: Generic S3 error: Client error with status 403 Forbidden: <?xml version=\"1.0\" encoding=\"UTF-8\"?>\n<Error><Code>InvalidAccessKeyId</Code><Message>The AWS Access Key Id you provided does not exist in our records.</Message><AWSAccessKeyId>DSj0vuC7bfMUGZpX2L4h</AWSAccessKeyId><RequestId>SMJJE2JNPAQMWSAX</RequestId><HostId>ZlPsIp4cYlVawh1iIJw1MqRwqYKLD5Yn3bwuQnAyz9T7R6zt2M5+W1L1rqoetln8ETSfUx97cGQ=</HostId></Error>"
     ]
    }
   ],
   "source": [
    "import os\n",
    "\n",
    "# Set environment variables for MinIO access\n",
    "# os.environ[\"AWS_ACCESS_KEY_ID\"] = \"DSj0vuC7bfMUGZpX2L4h\"\n",
    "# os.environ[\"AWS_SECRET_ACCESS_KEY\"] = \"wQ4OGBfXDwBV0nXuW0cHQfPqSDfhMOKUqi3kjtLU\"\n",
    "os.environ[\"AWS_ACCESS_KEY_ID\"] = \"DSj0vuC7bfMUGZpX2L4h\"\n",
    "os.environ[\"AWS_SECRET_ACCESS_KEY\"] = \"wQ4OGBfXDwBV0nXuW0cHQfPqSDfhMOKUqi3kjtLU\"\n",
    "os.environ[\"AWS_S3_ENDPOINT_URL\"] = \"http://localhost:9000\"\n",
    "os.environ[\"AWS_REGION\"] = \"us-east-1\"\n",
    "\n",
    "import polars as pl\n",
    "\n",
    "# Now attempt to read the Delta table\n",
    "df = pl.read_delta(\"s3://depictio-bucket/64a842842bf4fa7deaa3dbed/65c4ef0f26d99f46c993a5af/65c4ef0f26d99f46c993a5b0\")\n",
    "df\n"
   ]
  },
  {
   "cell_type": "code",
   "execution_count": 4,
   "metadata": {},
   "outputs": [
    {
     "data": {
      "text/plain": [
       "<s3fs.core.S3FileSystem at 0x12f3d7dd0>"
      ]
     },
     "execution_count": 4,
     "metadata": {},
     "output_type": "execute_result"
    }
   ],
   "source": [
    "import s3fs\n",
    "fs = s3fs.S3FileSystem()  \n",
    "fs."
   ]
  },
  {
   "cell_type": "code",
   "execution_count": 14,
   "metadata": {},
   "outputs": [
    {
     "name": "stderr",
     "output_type": "stream",
     "text": [
      "thread '<unnamed>' panicked at /Users/runner/work/delta-rs/delta-rs/crates/deltalake-core/src/table/builder.rs:158:48:\n",
      "The specified table_uri is not valid: InvalidTableLocation(\"Unknown scheme: http\")\n"
     ]
    },
    {
     "ename": "PanicException",
     "evalue": "The specified table_uri is not valid: InvalidTableLocation(\"Unknown scheme: http\")",
     "output_type": "error",
     "traceback": [
      "\u001b[0;31m---------------------------------------------------------------------------\u001b[0m",
      "\u001b[0;31mPanicException\u001b[0m                            Traceback (most recent call last)",
      "Cell \u001b[0;32mIn[14], line 13\u001b[0m\n\u001b[1;32m     11\u001b[0m fs \u001b[38;5;241m=\u001b[39m s3fs\u001b[38;5;241m.\u001b[39mS3FileSystem(\u001b[38;5;241m*\u001b[39m\u001b[38;5;241m*\u001b[39mconn_data)\n\u001b[1;32m     12\u001b[0m fs\n\u001b[0;32m---> 13\u001b[0m df \u001b[38;5;241m=\u001b[39m \u001b[43mpl\u001b[49m\u001b[38;5;241;43m.\u001b[39;49m\u001b[43mread_delta\u001b[49m\u001b[43m(\u001b[49m\u001b[38;5;124;43m\"\u001b[39;49m\u001b[38;5;124;43mhttp://localhost:9000/depictio-bucket/64a842842bf4fa7deaa3dbed/65c4ef0f26d99f46c993a5af/65c4ef0f26d99f46c993a5b0\u001b[39;49m\u001b[38;5;124;43m\"\u001b[39;49m\u001b[43m)\u001b[49m\n\u001b[1;32m     14\u001b[0m df\n",
      "File \u001b[0;32m~/miniconda3/envs/depictio_dev/lib/python3.11/site-packages/polars/io/delta.py:132\u001b[0m, in \u001b[0;36mread_delta\u001b[0;34m(source, version, columns, storage_options, delta_table_options, pyarrow_options)\u001b[0m\n\u001b[1;32m    128\u001b[0m     pyarrow_options \u001b[38;5;241m=\u001b[39m {}\n\u001b[1;32m    130\u001b[0m resolved_uri \u001b[38;5;241m=\u001b[39m _resolve_delta_lake_uri(source)\n\u001b[0;32m--> 132\u001b[0m dl_tbl \u001b[38;5;241m=\u001b[39m \u001b[43m_get_delta_lake_table\u001b[49m\u001b[43m(\u001b[49m\n\u001b[1;32m    133\u001b[0m \u001b[43m    \u001b[49m\u001b[43mtable_path\u001b[49m\u001b[38;5;241;43m=\u001b[39;49m\u001b[43mresolved_uri\u001b[49m\u001b[43m,\u001b[49m\n\u001b[1;32m    134\u001b[0m \u001b[43m    \u001b[49m\u001b[43mversion\u001b[49m\u001b[38;5;241;43m=\u001b[39;49m\u001b[43mversion\u001b[49m\u001b[43m,\u001b[49m\n\u001b[1;32m    135\u001b[0m \u001b[43m    \u001b[49m\u001b[43mstorage_options\u001b[49m\u001b[38;5;241;43m=\u001b[39;49m\u001b[43mstorage_options\u001b[49m\u001b[43m,\u001b[49m\n\u001b[1;32m    136\u001b[0m \u001b[43m    \u001b[49m\u001b[43mdelta_table_options\u001b[49m\u001b[38;5;241;43m=\u001b[39;49m\u001b[43mdelta_table_options\u001b[49m\u001b[43m,\u001b[49m\n\u001b[1;32m    137\u001b[0m \u001b[43m\u001b[49m\u001b[43m)\u001b[49m\n\u001b[1;32m    139\u001b[0m \u001b[38;5;28;01mreturn\u001b[39;00m from_arrow(dl_tbl\u001b[38;5;241m.\u001b[39mto_pyarrow_table(columns\u001b[38;5;241m=\u001b[39mcolumns, \u001b[38;5;241m*\u001b[39m\u001b[38;5;241m*\u001b[39mpyarrow_options))\n",
      "File \u001b[0;32m~/miniconda3/envs/depictio_dev/lib/python3.11/site-packages/polars/io/delta.py:301\u001b[0m, in \u001b[0;36m_get_delta_lake_table\u001b[0;34m(table_path, version, storage_options, delta_table_options)\u001b[0m\n\u001b[1;32m    298\u001b[0m \u001b[38;5;28;01mif\u001b[39;00m delta_table_options \u001b[38;5;129;01mis\u001b[39;00m \u001b[38;5;28;01mNone\u001b[39;00m:\n\u001b[1;32m    299\u001b[0m     delta_table_options \u001b[38;5;241m=\u001b[39m {}\n\u001b[0;32m--> 301\u001b[0m dl_tbl \u001b[38;5;241m=\u001b[39m \u001b[43mdeltalake\u001b[49m\u001b[38;5;241;43m.\u001b[39;49m\u001b[43mDeltaTable\u001b[49m\u001b[43m(\u001b[49m\n\u001b[1;32m    302\u001b[0m \u001b[43m    \u001b[49m\u001b[43mtable_path\u001b[49m\u001b[43m,\u001b[49m\n\u001b[1;32m    303\u001b[0m \u001b[43m    \u001b[49m\u001b[43mversion\u001b[49m\u001b[38;5;241;43m=\u001b[39;49m\u001b[43mversion\u001b[49m\u001b[43m,\u001b[49m\n\u001b[1;32m    304\u001b[0m \u001b[43m    \u001b[49m\u001b[43mstorage_options\u001b[49m\u001b[38;5;241;43m=\u001b[39;49m\u001b[43mstorage_options\u001b[49m\u001b[43m,\u001b[49m\n\u001b[1;32m    305\u001b[0m \u001b[43m    \u001b[49m\u001b[38;5;241;43m*\u001b[39;49m\u001b[38;5;241;43m*\u001b[39;49m\u001b[43mdelta_table_options\u001b[49m\u001b[43m,\u001b[49m\n\u001b[1;32m    306\u001b[0m \u001b[43m\u001b[49m\u001b[43m)\u001b[49m\n\u001b[1;32m    308\u001b[0m \u001b[38;5;28;01mreturn\u001b[39;00m dl_tbl\n",
      "File \u001b[0;32m~/miniconda3/envs/depictio_dev/lib/python3.11/site-packages/deltalake/table.py:396\u001b[0m, in \u001b[0;36mDeltaTable.__init__\u001b[0;34m(self, table_uri, version, storage_options, without_files, log_buffer_size)\u001b[0m\n\u001b[1;32m    376\u001b[0m \u001b[38;5;250m\u001b[39m\u001b[38;5;124;03m\"\"\"\u001b[39;00m\n\u001b[1;32m    377\u001b[0m \u001b[38;5;124;03mCreate the Delta Table from a path with an optional version.\u001b[39;00m\n\u001b[1;32m    378\u001b[0m \u001b[38;5;124;03mMultiple StorageBackends are currently supported: AWS S3, Azure Data Lake Storage Gen2, Google Cloud Storage (GCS) and local URI.\u001b[39;00m\n\u001b[0;32m   (...)\u001b[0m\n\u001b[1;32m    393\u001b[0m \n\u001b[1;32m    394\u001b[0m \u001b[38;5;124;03m\"\"\"\u001b[39;00m\n\u001b[1;32m    395\u001b[0m \u001b[38;5;28mself\u001b[39m\u001b[38;5;241m.\u001b[39m_storage_options \u001b[38;5;241m=\u001b[39m storage_options\n\u001b[0;32m--> 396\u001b[0m \u001b[38;5;28mself\u001b[39m\u001b[38;5;241m.\u001b[39m_table \u001b[38;5;241m=\u001b[39m \u001b[43mRawDeltaTable\u001b[49m\u001b[43m(\u001b[49m\n\u001b[1;32m    397\u001b[0m \u001b[43m    \u001b[49m\u001b[38;5;28;43mstr\u001b[39;49m\u001b[43m(\u001b[49m\u001b[43mtable_uri\u001b[49m\u001b[43m)\u001b[49m\u001b[43m,\u001b[49m\n\u001b[1;32m    398\u001b[0m \u001b[43m    \u001b[49m\u001b[43mversion\u001b[49m\u001b[38;5;241;43m=\u001b[39;49m\u001b[43mversion\u001b[49m\u001b[43m,\u001b[49m\n\u001b[1;32m    399\u001b[0m \u001b[43m    \u001b[49m\u001b[43mstorage_options\u001b[49m\u001b[38;5;241;43m=\u001b[39;49m\u001b[43mstorage_options\u001b[49m\u001b[43m,\u001b[49m\n\u001b[1;32m    400\u001b[0m \u001b[43m    \u001b[49m\u001b[43mwithout_files\u001b[49m\u001b[38;5;241;43m=\u001b[39;49m\u001b[43mwithout_files\u001b[49m\u001b[43m,\u001b[49m\n\u001b[1;32m    401\u001b[0m \u001b[43m    \u001b[49m\u001b[43mlog_buffer_size\u001b[49m\u001b[38;5;241;43m=\u001b[39;49m\u001b[43mlog_buffer_size\u001b[49m\u001b[43m,\u001b[49m\n\u001b[1;32m    402\u001b[0m \u001b[43m\u001b[49m\u001b[43m)\u001b[49m\n",
      "\u001b[0;31mPanicException\u001b[0m: The specified table_uri is not valid: InvalidTableLocation(\"Unknown scheme: http\")"
     ]
    }
   ],
   "source": [
    "import polars as pl\n",
    "import s3fs\n",
    "\n",
    "storage_options = {\n",
    "    \"AWS_ACCESS_KEY_ID\": \"minio\",\n",
    "    \"AWS_SECRET_ACCESS_KEY\": \"minio123\",\n",
    "    \"AWS_S3_ENDPOINT_URL\": \"http://localhost:9000\",\n",
    "    \"AWS_REGION\": \"us-east-1\",\n",
    "}\n",
    "conn_data = { 'key': 'minio', 'secret': 'minio123', 'client_kwargs': { 'endpoint_url': 'http://localhost:9000' }}\n",
    "fs = s3fs.S3FileSystem(**conn_data)\n",
    "fs\n",
    "df = pl.read_delta(\"http://localhost:9000/depictio-bucket/64a842842bf4fa7deaa3dbed/65c4ef0f26d99f46c993a5af/65c4ef0f26d99f46c993a5b0\")\n",
    "df\n"
   ]
  },
  {
   "cell_type": "code",
   "execution_count": null,
   "metadata": {},
   "outputs": [],
   "source": []
  },
  {
   "cell_type": "code",
   "execution_count": null,
   "metadata": {},
   "outputs": [],
   "source": []
  },
  {
   "cell_type": "code",
   "execution_count": 6,
   "metadata": {},
   "outputs": [],
   "source": [
    "import boto3\n",
    "from botocore.exceptions import NoCredentialsError\n",
    "\n",
    "# Your MinIO/S3 credentials and bucket details\n",
    "endpoint_url = 'http://localhost:9000'  # Your MinIO endpoint\n",
    "access_key = 'minio_debug'\n",
    "secret_key = 'minio123'\n",
    "bucket_name = 'depictio-bucket'\n",
    "object_key = '64a842842bf4fa7deaa3dbed'  # The name of the file you want to read\n",
    "\n",
    "# Create an S3 client\n",
    "s3_client = boto3.client('s3',\n",
    "                         endpoint_url=endpoint_url,\n",
    "                         aws_access_key_id=access_key,\n",
    "                         aws_secret_access_key=secret_key,\n",
    "                         region_name='us-east-1')  # Region name can be any string\n"
   ]
  },
  {
   "cell_type": "code",
   "execution_count": null,
   "metadata": {},
   "outputs": [],
   "source": [
    "try:\n",
    "    file_content = s3_client.get_object(Bucket=bucket_name, Key=object_key)['Body'].read()\n",
    "    print(file_content.decode('utf-8'))  # Assuming the file is text-based; decode as necessary\n",
    "except NoCredentialsError:\n",
    "    print(\"Credentials not available\")\n",
    "except Exception as e:\n",
    "    print(e)\n"
   ]
  },
  {
   "cell_type": "code",
   "execution_count": 19,
   "metadata": {},
   "outputs": [
    {
     "name": "stdout",
     "output_type": "stream",
     "text": [
      "shape: (6_720, 15)\n",
      "┌──────────────┬────────────┬─────────────┬────────┬───┬──────────┬───────────┬──────┬─────────────┐\n",
      "│ depictio_run ┆ sample     ┆ cell        ┆ medbin ┆ … ┆ nb_p     ┆ nb_r      ┆ nb_a ┆ bam         │\n",
      "│ _id          ┆ ---        ┆ ---         ┆ ---    ┆   ┆ ---      ┆ ---       ┆ ---  ┆ ---         │\n",
      "│ ---          ┆ str        ┆ str         ┆ i64    ┆   ┆ f64      ┆ f64       ┆ f64  ┆ str         │\n",
      "│ str          ┆            ┆             ┆        ┆   ┆          ┆           ┆      ┆             │\n",
      "╞══════════════╪════════════╪═════════════╪════════╪═══╪══════════╪═══════════╪══════╪═════════════╡\n",
      "│ 2019-09-11-H ┆ HG01114x02 ┆ HG01114x02P ┆ 23     ┆ … ┆ 0.008158 ┆ 0.196344  ┆ 0.1  ┆ /scratch/tw │\n",
      "│ TN7CAFXY     ┆            ┆ E20301      ┆        ┆   ┆          ┆           ┆      ┆ eber/DATA/M │\n",
      "│              ┆            ┆             ┆        ┆   ┆          ┆           ┆      ┆ C_DATA/STO… │\n",
      "│ 2019-09-11-H ┆ HG01114x02 ┆ HG01114x02P ┆ 5      ┆ … ┆ 0.008158 ┆ 0.0511661 ┆ 0.1  ┆ /scratch/tw │\n",
      "│ TN7CAFXY     ┆            ┆ E20302      ┆        ┆   ┆          ┆           ┆      ┆ eber/DATA/M │\n",
      "│              ┆            ┆             ┆        ┆   ┆          ┆           ┆      ┆ C_DATA/STO… │\n",
      "│ 2019-09-11-H ┆ HG01114x02 ┆ HG01114x02P ┆ 2      ┆ … ┆ 0.0      ┆ 0.0       ┆ 0.0  ┆ /scratch/tw │\n",
      "│ TN7CAFXY     ┆            ┆ E20303      ┆        ┆   ┆          ┆           ┆      ┆ eber/DATA/M │\n",
      "│              ┆            ┆             ┆        ┆   ┆          ┆           ┆      ┆ C_DATA/STO… │\n",
      "│ 2019-09-11-H ┆ HG01114x02 ┆ HG01114x02P ┆ 26     ┆ … ┆ 0.008158 ┆ 0.22292   ┆ 0.1  ┆ /scratch/tw │\n",
      "│ TN7CAFXY     ┆            ┆ E20304      ┆        ┆   ┆          ┆           ┆      ┆ eber/DATA/M │\n",
      "│              ┆            ┆             ┆        ┆   ┆          ┆           ┆      ┆ C_DATA/STO… │\n",
      "│ 2019-09-11-H ┆ HG01114x02 ┆ HG01114x02P ┆ 15     ┆ … ┆ 0.008158 ┆ 0.136032  ┆ 0.1  ┆ /scratch/tw │\n",
      "│ TN7CAFXY     ┆            ┆ E20305      ┆        ┆   ┆          ┆           ┆      ┆ eber/DATA/M │\n",
      "│              ┆            ┆             ┆        ┆   ┆          ┆           ┆      ┆ C_DATA/STO… │\n",
      "│ …            ┆ …          ┆ …           ┆ …      ┆ … ┆ …        ┆ …         ┆ …    ┆ …           │\n",
      "│ 2019-09-17-H ┆ HG02106x02 ┆ HG02106x02P ┆ 42     ┆ … ┆ 0.1136   ┆ 5.62297   ┆ 0.1  ┆ /scratch/tw │\n",
      "│ TVH5AFXY     ┆            ┆ E20392      ┆        ┆   ┆          ┆           ┆      ┆ eber/DATA/M │\n",
      "│              ┆            ┆             ┆        ┆   ┆          ┆           ┆      ┆ C_DATA/STO… │\n",
      "│ 2019-09-17-H ┆ HG02106x02 ┆ HG02106x02P ┆ 4      ┆ … ┆ 0.1136   ┆ 0.676104  ┆ 0.1  ┆ /scratch/tw │\n",
      "│ TVH5AFXY     ┆            ┆ E20393      ┆        ┆   ┆          ┆           ┆      ┆ eber/DATA/M │\n",
      "│              ┆            ┆             ┆        ┆   ┆          ┆           ┆      ┆ C_DATA/STO… │\n",
      "│ 2019-09-17-H ┆ HG02106x02 ┆ HG02106x02P ┆ 0      ┆ … ┆ 0.0      ┆ 0.0       ┆ 0.0  ┆ /scratch/tw │\n",
      "│ TVH5AFXY     ┆            ┆ E20394      ┆        ┆   ┆          ┆           ┆      ┆ eber/DATA/M │\n",
      "│              ┆            ┆             ┆        ┆   ┆          ┆           ┆      ┆ C_DATA/STO… │\n",
      "│ 2019-09-17-H ┆ HG02106x02 ┆ HG02106x02P ┆ 39     ┆ … ┆ 0.1136   ┆ 5.00765   ┆ 0.1  ┆ /scratch/tw │\n",
      "│ TVH5AFXY     ┆            ┆ E20395      ┆        ┆   ┆          ┆           ┆      ┆ eber/DATA/M │\n",
      "│              ┆            ┆             ┆        ┆   ┆          ┆           ┆      ┆ C_DATA/STO… │\n",
      "│ 2019-09-17-H ┆ HG02106x02 ┆ HG02106x02P ┆ 39     ┆ … ┆ 0.1136   ┆ 5.11602   ┆ 0.1  ┆ /scratch/tw │\n",
      "│ TVH5AFXY     ┆            ┆ E20396      ┆        ┆   ┆          ┆           ┆      ┆ eber/DATA/M │\n",
      "│              ┆            ┆             ┆        ┆   ┆          ┆           ┆      ┆ C_DATA/STO… │\n",
      "└──────────────┴────────────┴─────────────┴────────┴───┴──────────┴───────────┴──────┴─────────────┘\n"
     ]
    }
   ],
   "source": [
    "from io import BytesIO\n",
    "import boto3\n",
    "import polars as pl\n",
    "\n",
    "# MinIO/S3 credentials and bucket details\n",
    "endpoint_url = 'http://localhost:9000'  # Your MinIO endpoint\n",
    "access_key = 'minio'\n",
    "secret_key = 'minio123'\n",
    "bucket_name = 'depictio-bucket'\n",
    "object_key = '64a842842bf4fa7deaa3dbed/65c4ef0f26d99f46c993a5af/65c4ef0f26d99f46c993a5b0/1-ea34b2f8-4b6c-455f-b3ca-1ae0519c792f-0.parquet'  # Name of your parquet file\n",
    "\n",
    "# Create S3 client\n",
    "s3_client = boto3.client(\n",
    "    's3',\n",
    "    endpoint_url=endpoint_url,\n",
    "    aws_access_key_id=access_key,\n",
    "    aws_secret_access_key=secret_key\n",
    ")\n",
    "\n",
    "# Access object using S3 client\n",
    "obj = s3_client.get_object(Bucket=bucket_name, Key=object_key)\n",
    "\n",
    "# Retrieve the Parquet file as a bytes stream\n",
    "try:\n",
    "    obj = s3_client.get_object(Bucket=bucket_name, Key=object_key)\n",
    "    data = obj['Body'].read()\n",
    "    \n",
    "    # Use BytesIO to convert bytes data to a file-like object for pandas\n",
    "    data_stream = BytesIO(data)\n",
    "    \n",
    "    # Use pandas to read the Parquet file\n",
    "    df = pl.read_parquet(data_stream)\n",
    "    print(df)\n",
    "except boto3.exceptions.Boto3Error as e:\n",
    "    print(f\"An error occurred: {e}\")"
   ]
  },
  {
   "cell_type": "code",
   "execution_count": 2,
   "metadata": {},
   "outputs": [
    {
     "name": "stdout",
     "output_type": "stream",
     "text": [
      "shape: (6_720, 15)\n",
      "┌──────────────┬────────────┬─────────────┬────────┬───┬──────────┬───────────┬──────┬─────────────┐\n",
      "│ depictio_run ┆ sample     ┆ cell        ┆ medbin ┆ … ┆ nb_p     ┆ nb_r      ┆ nb_a ┆ bam         │\n",
      "│ _id          ┆ ---        ┆ ---         ┆ ---    ┆   ┆ ---      ┆ ---       ┆ ---  ┆ ---         │\n",
      "│ ---          ┆ str        ┆ str         ┆ i64    ┆   ┆ f64      ┆ f64       ┆ f64  ┆ str         │\n",
      "│ str          ┆            ┆             ┆        ┆   ┆          ┆           ┆      ┆             │\n",
      "╞══════════════╪════════════╪═════════════╪════════╪═══╪══════════╪═══════════╪══════╪═════════════╡\n",
      "│ 2019-09-11-H ┆ HG01114x02 ┆ HG01114x02P ┆ 23     ┆ … ┆ 0.008158 ┆ 0.196344  ┆ 0.1  ┆ /scratch/tw │\n",
      "│ TN7CAFXY     ┆            ┆ E20301      ┆        ┆   ┆          ┆           ┆      ┆ eber/DATA/M │\n",
      "│              ┆            ┆             ┆        ┆   ┆          ┆           ┆      ┆ C_DATA/STO… │\n",
      "│ 2019-09-11-H ┆ HG01114x02 ┆ HG01114x02P ┆ 5      ┆ … ┆ 0.008158 ┆ 0.0511661 ┆ 0.1  ┆ /scratch/tw │\n",
      "│ TN7CAFXY     ┆            ┆ E20302      ┆        ┆   ┆          ┆           ┆      ┆ eber/DATA/M │\n",
      "│              ┆            ┆             ┆        ┆   ┆          ┆           ┆      ┆ C_DATA/STO… │\n",
      "│ 2019-09-11-H ┆ HG01114x02 ┆ HG01114x02P ┆ 2      ┆ … ┆ 0.0      ┆ 0.0       ┆ 0.0  ┆ /scratch/tw │\n",
      "│ TN7CAFXY     ┆            ┆ E20303      ┆        ┆   ┆          ┆           ┆      ┆ eber/DATA/M │\n",
      "│              ┆            ┆             ┆        ┆   ┆          ┆           ┆      ┆ C_DATA/STO… │\n",
      "│ 2019-09-11-H ┆ HG01114x02 ┆ HG01114x02P ┆ 26     ┆ … ┆ 0.008158 ┆ 0.22292   ┆ 0.1  ┆ /scratch/tw │\n",
      "│ TN7CAFXY     ┆            ┆ E20304      ┆        ┆   ┆          ┆           ┆      ┆ eber/DATA/M │\n",
      "│              ┆            ┆             ┆        ┆   ┆          ┆           ┆      ┆ C_DATA/STO… │\n",
      "│ 2019-09-11-H ┆ HG01114x02 ┆ HG01114x02P ┆ 15     ┆ … ┆ 0.008158 ┆ 0.136032  ┆ 0.1  ┆ /scratch/tw │\n",
      "│ TN7CAFXY     ┆            ┆ E20305      ┆        ┆   ┆          ┆           ┆      ┆ eber/DATA/M │\n",
      "│              ┆            ┆             ┆        ┆   ┆          ┆           ┆      ┆ C_DATA/STO… │\n",
      "│ …            ┆ …          ┆ …           ┆ …      ┆ … ┆ …        ┆ …         ┆ …    ┆ …           │\n",
      "│ 2019-09-17-H ┆ HG02106x02 ┆ HG02106x02P ┆ 42     ┆ … ┆ 0.1136   ┆ 5.62297   ┆ 0.1  ┆ /scratch/tw │\n",
      "│ TVH5AFXY     ┆            ┆ E20392      ┆        ┆   ┆          ┆           ┆      ┆ eber/DATA/M │\n",
      "│              ┆            ┆             ┆        ┆   ┆          ┆           ┆      ┆ C_DATA/STO… │\n",
      "│ 2019-09-17-H ┆ HG02106x02 ┆ HG02106x02P ┆ 4      ┆ … ┆ 0.1136   ┆ 0.676104  ┆ 0.1  ┆ /scratch/tw │\n",
      "│ TVH5AFXY     ┆            ┆ E20393      ┆        ┆   ┆          ┆           ┆      ┆ eber/DATA/M │\n",
      "│              ┆            ┆             ┆        ┆   ┆          ┆           ┆      ┆ C_DATA/STO… │\n",
      "│ 2019-09-17-H ┆ HG02106x02 ┆ HG02106x02P ┆ 0      ┆ … ┆ 0.0      ┆ 0.0       ┆ 0.0  ┆ /scratch/tw │\n",
      "│ TVH5AFXY     ┆            ┆ E20394      ┆        ┆   ┆          ┆           ┆      ┆ eber/DATA/M │\n",
      "│              ┆            ┆             ┆        ┆   ┆          ┆           ┆      ┆ C_DATA/STO… │\n",
      "│ 2019-09-17-H ┆ HG02106x02 ┆ HG02106x02P ┆ 39     ┆ … ┆ 0.1136   ┆ 5.00765   ┆ 0.1  ┆ /scratch/tw │\n",
      "│ TVH5AFXY     ┆            ┆ E20395      ┆        ┆   ┆          ┆           ┆      ┆ eber/DATA/M │\n",
      "│              ┆            ┆             ┆        ┆   ┆          ┆           ┆      ┆ C_DATA/STO… │\n",
      "│ 2019-09-17-H ┆ HG02106x02 ┆ HG02106x02P ┆ 39     ┆ … ┆ 0.1136   ┆ 5.11602   ┆ 0.1  ┆ /scratch/tw │\n",
      "│ TVH5AFXY     ┆            ┆ E20396      ┆        ┆   ┆          ┆           ┆      ┆ eber/DATA/M │\n",
      "│              ┆            ┆             ┆        ┆   ┆          ┆           ┆      ┆ C_DATA/STO… │\n",
      "└──────────────┴────────────┴─────────────┴────────┴───┴──────────┴───────────┴──────┴─────────────┘\n"
     ]
    }
   ],
   "source": [
    "from io import BytesIO\n",
    "import boto3\n",
    "import polars as pl\n",
    "import os\n",
    "\n",
    "# Set environment variables for MinIO access\n",
    "os.environ[\"AWS_ACCESS_KEY_ID\"] = \"minio\"\n",
    "os.environ[\"AWS_SECRET_ACCESS_KEY\"] = \"minio123\"\n",
    "os.environ[\"AWS_ENDPOINT_URL\"] = \"http://localhost:9000\"  # This might need to be AWS_S3_ENDPOINT_URL depending on the version and setup\n",
    "os.environ[\"AWS_REGION\"] = \"us-east-1\"  # This can be a placeholder value\n",
    "\n",
    "\n",
    "object_key = 's3://depictio-bucket/64a842842bf4fa7deaa3dbed/65c4ef0f26d99f46c993a5af/65c4ef0f26d99f46c993a5b0/1-ea34b2f8-4b6c-455f-b3ca-1ae0519c792f-0.parquet'  # Name of your parquet file\n",
    "\n",
    "\n",
    "# Create S3 client\n",
    "# s3_client = boto3.client(\n",
    "#     's3',\n",
    "#     endpoint_url=endpoint_url,\n",
    "#     aws_access_key_id=access_key,\n",
    "#     aws_secret_access_key=secret_key\n",
    "# )\n",
    "\n",
    "# # Access object using S3 client\n",
    "# obj = s3_client.get_object(Bucket=bucket_name, Key=object_key)\n",
    "\n",
    "# Retrieve the Parquet file as a bytes stream\n",
    "try:\n",
    "    # obj = s3_client.get_object(Bucket=bucket_name, Key=object_key)\n",
    "    # data = obj['Body'].read()\n",
    "    \n",
    "    # # Use BytesIO to convert bytes data to a file-like object for pandas\n",
    "    # data_stream = BytesIO(data)\n",
    "    \n",
    "    # Use pandas to read the Parquet file\n",
    "    df = pl.read_parquet(object_key)\n",
    "    print(df)\n",
    "except boto3.exceptions.Boto3Error as e:\n",
    "    print(f\"An error occurred: {e}\")"
   ]
  },
  {
   "cell_type": "code",
   "execution_count": 4,
   "metadata": {},
   "outputs": [
    {
     "name": "stdout",
     "output_type": "stream",
     "text": [
      "Failed to read Delta table: Generic S3 error: Error after 0 retries in 2.458µs, max_retries:10, retry_timeout:180s, source:builder error for url (http://localhost:9000/depictio-bucket/64a842842bf4fa7deaa3dbed/65c4ef0f26d99f46c993a5af/65c4ef0f26d99f46c993a5b0/_delta_log/_last_checkpoint): URL scheme is not allowed\n"
     ]
    }
   ],
   "source": [
    "import os\n",
    "import polars as pl\n",
    "\n",
    "# Set environment variables for MinIO access\n",
    "os.environ[\"AWS_ACCESS_KEY_ID\"] = \"minio\"\n",
    "os.environ[\"AWS_SECRET_ACCESS_KEY\"] = \"minio123\"\n",
    "os.environ[\"AWS_ENDPOINT_URL\"] = \"http://localhost:9000\"  # This might need to be AWS_S3_ENDPOINT_URL depending on the version and setup\n",
    "os.environ[\"AWS_REGION\"] = \"us-east-1\"  # This can be a placeholder value\n",
    "\n",
    "# Assuming the Delta table is located at this path in your MinIO bucket\n",
    "delta_table_path = \"s3://depictio-bucket/64a842842bf4fa7deaa3dbed/65c4ef0f26d99f46c993a5af/65c4ef0f26d99f46c993a5b0/\"\n",
    "\n",
    "# Attempt to read the Delta table using Polars\n",
    "try:\n",
    "    df = pl.read_delta(delta_table_path)\n",
    "    print(df)\n",
    "except Exception as e:\n",
    "    print(f\"Failed to read Delta table: {e}\")\n"
   ]
  },
  {
   "cell_type": "code",
   "execution_count": null,
   "metadata": {},
   "outputs": [
    {
     "name": "stdout",
     "output_type": "stream",
     "text": [
      "Failed to read Delta table: Generic S3 error: Error after 0 retries in 2.166µs, max_retries:10, retry_timeout:180s, source:builder error for url (http://localhost:9000/depictio-bucket/64a842842bf4fa7deaa3dbed/65c4ef0f26d99f46c993a5af/65c4ef0f26d99f46c993a5b0/_delta_log/_last_checkpoint): URL scheme is not allowed\n"
     ]
    }
   ],
   "source": [
    "import os\n",
    "import polars as pl\n",
    "\n",
    "# Set environment variables for MinIO access\n",
    "os.environ[\"AWS_ACCESS_KEY_ID\"] = \"minio\"\n",
    "os.environ[\"AWS_SECRET_ACCESS_KEY\"] = \"minio123\"\n",
    "os.environ[\"AWS_S3_ENDPOINT_URL\"] = \"http://localhost:9000\"  # This might need to be AWS_S3_ENDPOINT_URL depending on the version and setup\n",
    "os.environ[\"AWS_REGION\"] = \"us-east-1\"  # This can be a placeholder value\n",
    "\n",
    "# Assuming the Delta table is located at this path in your MinIO bucket\n",
    "delta_table_path = \"s3://depictio-bucket/64a842842bf4fa7deaa3dbed/65c4ef0f26d99f46c993a5af/65c4ef0f26d99f46c993a5b0/\"\n",
    "\n",
    "# Attempt to read the Delta table using Polars\n",
    "try:\n",
    "    df = pl.read_delta(delta_table_path)\n",
    "    print(df)\n",
    "except Exception as e:\n",
    "    print(f\"Failed to read Delta table: {e}\")\n"
   ]
  }
 ],
 "metadata": {
  "kernelspec": {
   "display_name": "depictio_dev",
   "language": "python",
   "name": "python3"
  },
  "language_info": {
   "codemirror_mode": {
    "name": "ipython",
    "version": 3
   },
   "file_extension": ".py",
   "mimetype": "text/x-python",
   "name": "python",
   "nbconvert_exporter": "python",
   "pygments_lexer": "ipython3",
   "version": "3.11.7"
  }
 },
 "nbformat": 4,
 "nbformat_minor": 2
}
