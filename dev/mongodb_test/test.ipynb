{
 "cells": [
  {
   "cell_type": "code",
   "execution_count": null,
   "metadata": {},
   "outputs": [],
   "source": [
    "import pandas as pd\n",
    "import polars as pl\n",
    "\n",
    "df = pd.read_csv(\"/Users/tweber/Data/mosaicatcher_samples_metadata.csv\", sep=\";\")\n",
    "dt = pl.read_delta(\n",
    "    \"/Users/tweber/Gits/depictio/minio_data/depictio-bucket/65e5f007bad32df857a53cf2/65fc33d505358fc517a6e78c/65fc33d505358fc517a6e78d\"\n",
    ")\n",
    "dt = dt.to_pandas()\n",
    "dt[[\"depictio_run_id\", \"sample\"]].set_index(\n",
    "    \"depictio_run_id\"\n",
    ").drop_duplicates().to_records().tolist()"
   ]
  },
  {
   "cell_type": "code",
   "execution_count": null,
   "metadata": {},
   "outputs": [],
   "source": [
    "l = list()\n",
    "df_copy = df.copy()\n",
    "for e in (\n",
    "    dt[[\"depictio_run_id\", \"sample\"]]\n",
    "    .set_index(\"depictio_run_id\")\n",
    "    .drop_duplicates()\n",
    "    .to_records()\n",
    "    .tolist()\n",
    "):\n",
    "    tmp_df = pd.read_csv(\n",
    "        f\"/Users/tweber/Data/mosaicatcher-pipeline/{e[0]}/{e[1]}/cell_selection/labels.tsv\",\n",
    "        sep=\"\\t\",\n",
    "    )\n",
    "    l.append(tmp_df)\n",
    "l = pd.concat(l)\n",
    "pd.merge(df_copy, l[[\"sample\", \"cell\"]], left_on=\"sample\", right_on=\"sample\").to_csv(\n",
    "    \"/Users/tweber/Data/mosaicatcher-pipeline/mosaicatcher_samples_metadata.csv\",\n",
    "    sep=\";\",\n",
    "    index=False,\n",
    ")"
   ]
  },
  {
   "cell_type": "code",
   "execution_count": null,
   "metadata": {},
   "outputs": [],
   "source": [
    "# from gridfs import GridFS\n",
    "import pymongo\n",
    "\n",
    "\n",
    "MONGODB_URL = f\"mongodb://0.0.0.0:27018/\"\n",
    "print(\"MONGODB_URL: \", MONGODB_URL)\n",
    "\n",
    "\n",
    "client = pymongo.MongoClient(MONGODB_URL)\n",
    "db = client[\"depictioDB\"]\n",
    "\n",
    "\n",
    "data_collection = db[\"data_collections\"]\n",
    "workflow_collection = db[\"workflows\"]\n",
    "runs_collection = db[\"runs\"]\n",
    "files_collection = db[\"files\"]\n",
    "users_collection = db[\"users\"]\n",
    "projects_collection = db[\"projects\"]\n",
    "# groups_collection = db[\"groups_collection\"]"
   ]
  },
  {
   "cell_type": "code",
   "execution_count": null,
   "metadata": {},
   "outputs": [],
   "source": [
    "from bson import ObjectId\n",
    "\n",
    "target_data_collection_id = ObjectId(\"67a25c82fea6466823de362f\")\n",
    "\n",
    "\n",
    "# Query to find any document containing the specified data collection ID\n",
    "query = {\"workflows.data_collections._id\": target_data_collection_id}\n",
    "\n",
    "# Execute the search\n",
    "result = projects_collection.find(query)\n",
    "\n",
    "# Print the matching documents\n",
    "for doc in result:\n",
    "    print(doc)"
   ]
  },
  {
   "cell_type": "code",
   "execution_count": null,
   "metadata": {},
   "outputs": [],
   "source": [
    "user_oid = ObjectId(\"67658ba033c8b59ad489d7c7\")\n",
    "# Aggregation pipeline\n",
    "pipeline = [\n",
    "    {\n",
    "        \"$match\": {\n",
    "            \"$or\": [\n",
    "                {\"permissions.owners._id\": user_oid},  # User is an owner\n",
    "                {\"permissions.owners.is_admin\": True},  # User is an admin\n",
    "            ]\n",
    "        }\n",
    "    },\n",
    "    {\"$unwind\": \"$workflows\"},\n",
    "    {\"$unwind\": \"$workflows.data_collections\"},\n",
    "    {\n",
    "        \"$match\": {\"workflows.data_collections._id\": target_data_collection_id}\n",
    "    },  # Find specific data collection\n",
    "    {\n",
    "        \"$project\": {\"_id\": 0, \"data_collection\": \"$workflows.data_collections\"}\n",
    "    },  # Extract only the data_collection\n",
    "]\n",
    "\n",
    "# Execute the aggregation\n",
    "result = projects_collection.aggregate(pipeline)\n",
    "\n",
    "# Print matching data collections\n",
    "for doc in result:\n",
    "    print(doc[\"data_collection\"])"
   ]
  },
  {
   "cell_type": "code",
   "execution_count": null,
   "metadata": {},
   "outputs": [],
   "source": [
    "# Query in files_collection\n",
    "files_collection.find_one(\n",
    "    {\"file_location\": \"/Users/tweber/Data/mosaicatcher-pipeline/mosaicatcher_samples_metadata.csv\"}\n",
    ")\n",
    "# Show all documents from workflow_collection\n",
    "# for doc in workflow_collection.find():\n",
    "#     print(doc)\n",
    "\n",
    "# remove that file from files_collection\n",
    "files_collection.delete_one(\n",
    "    {\"file_location\": \"/Users/tweber/Data/mosaicatcher-pipeline/mosaicatcher_samples_metadata.csv\"}\n",
    ")"
   ]
  },
  {
   "cell_type": "code",
   "execution_count": null,
   "metadata": {},
   "outputs": [],
   "source": [
    "# The ID of the data collection you're interested in\n",
    "from bson import ObjectId\n",
    "\n",
    "\n",
    "data_collection_id = ObjectId(\"6647d03b57d1fae8d89dce90\")\n",
    "\n",
    "# Query to retrieve all files belonging to the specified data collection\n",
    "files = files_collection.find({\"data_collection._id\": data_collection_id})\n",
    "for file in files[:10]:\n",
    "    print(file)\n",
    "    if (\n",
    "        file[\"file_location\"]\n",
    "        == \"/Users/tweber/Data/mosaicatcher-pipeline/mosaicatcher_samples_metadata.csv.bak\"\n",
    "    ):\n",
    "        print(\"Found\")\n",
    "        # delete the file\n",
    "        files_collection.delete_one({\"_id\": file[\"_id\"]})"
   ]
  },
  {
   "cell_type": "code",
   "execution_count": null,
   "metadata": {},
   "outputs": [],
   "source": [
    "# Constructing the nested dictionary\n",
    "import collections\n",
    "from pprint import pprint\n",
    "\n",
    "nested_dict = collections.defaultdict(lambda: collections.defaultdict(dict))\n",
    "\n",
    "data_collection_id = ObjectId(\"6647d03b57d1fae8d89dce90\")\n",
    "files = files_collection.find({\"data_collection._id\": data_collection_id})\n",
    "for file in files:\n",
    "    # print(file)\n",
    "    if file[\"filename\"].endswith(\n",
    "        file[\"data_collection\"][\"config\"][\"dc_specific_properties\"][\"index_extension\"]\n",
    "    ):\n",
    "        continue\n",
    "    for wildcard in file[\"wildcards\"]:\n",
    "        if file[\"trackId\"]:\n",
    "            nested_dict[file[\"data_collection\"][\"_id\"]][wildcard[\"name\"]][wildcard[\"value\"]] = file[\n",
    "                \"trackId\"\n",
    "            ]\n",
    "\n",
    "# Example output\n",
    "pprint(nested_dict)"
   ]
  },
  {
   "cell_type": "code",
   "execution_count": null,
   "metadata": {},
   "outputs": [],
   "source": [
    "# id=ObjectId('65fb5bb927b90358513efd08') file_location=PosixPath('/Users/tweber/Data/mosaicatcher-pipeline/2019-09-11-HTN7CAFXY/HG01114x02/plots/JBROWSE/HG01114x02PE20356-SV.bed.gz.tbi') S3_location=None filename='HG01114x02PE20356-SV.bed.gz.tbi' creation_time=datetime.datetime(2024, 1, 29, 10, 5, 44) modification_time=datetime.datetime(2024, 1, 24, 6, 1, 31) data_collection=DataCollection(id=ObjectId('65fb5bb927b90358513efd06'), data_collection_tag='SV_calls', description='BED files containing SV calls generated by MosaiCatcher', config=DataCollectionConfig(type='JBrowse2', regex=Regex(pattern='{cell}-SV.bed.gz', type='file-based', wildcards=[WildcardRegexBase(name='cell', wildcard_regex='.*')]), dc_specific_properties=DCJBrowse2Config(index_extension='tbi', jbrowse_template_location='/Users/tweber/Gits/depictio/CLI_client/configs/mosaicatcher_pipeline/jbrowse2_templates/SV_calls.json'), join=TableJoinConfig(on_columns=['cell'], how='inner', with_dc=['mosaicatcher_stats']))) run_id='2019-09-11-HTN7CAFXY' registration_time=datetime.datetime(2024, 3, 20, 21, 57, 7, 395615) wildcards=[WildcardRegex(name='cell', wildcard_regex='.*', value='HG01114x02PE20356')]\n",
    "# Find all files with a specific data_collection_id\n",
    "for file in files_collection.find({\"data_collection\": {\"_id\": \"660c1dabf22783012cc91384\"}}):\n",
    "    print(file)"
   ]
  },
  {
   "cell_type": "code",
   "execution_count": null,
   "metadata": {},
   "outputs": [],
   "source": [
    "import httpx\n",
    "\n",
    "API_BASE_URL = \"http://0.0.0.0:8058\"\n",
    "last_jbrowse_status = httpx.get(f\"{API_BASE_URL}/depictio/api/v1/jbrowse/last_status\")\n",
    "last_jbrowse_status = last_jbrowse_status.json()\n",
    "last_jbrowse_status"
   ]
  }
 ],
 "metadata": {
  "kernelspec": {
   "display_name": "depictio_dev",
   "language": "python",
   "name": "python3"
  },
  "language_info": {
   "codemirror_mode": {
    "name": "ipython",
    "version": 3
   },
   "file_extension": ".py",
   "mimetype": "text/x-python",
   "name": "python",
   "nbconvert_exporter": "python",
   "pygments_lexer": "ipython3",
   "version": "3.11.7"
  }
 },
 "nbformat": 4,
 "nbformat_minor": 2
}
