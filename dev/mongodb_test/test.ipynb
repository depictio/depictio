{
 "cells": [
  {
   "cell_type": "code",
   "execution_count": 1,
   "metadata": {},
   "outputs": [
    {
     "name": "stdout",
     "output_type": "stream",
     "text": [
      "MONGODB_URL:  mongodb://host.docker.internal:27018/\n"
     ]
    }
   ],
   "source": [
    "# from gridfs import GridFS\n",
    "import pymongo\n",
    "import redis\n",
    "\n",
    "\n",
    "\n",
    "MONGODB_URL = f\"mongodb://host.docker.internal:27018/\"\n",
    "print(\"MONGODB_URL: \", MONGODB_URL)\n",
    "\n",
    "\n",
    "\n",
    "\n",
    "client = pymongo.MongoClient(MONGODB_URL)\n",
    "db = client[\"depictioDB\"]\n",
    "\n",
    "\n",
    "data_collection = db[\"data_collections\"]\n",
    "workflow_collection = db[\"workflows\"]\n",
    "runs_collection = db[\"runs\"]\n",
    "files_collection = db[\"files\"]\n",
    "users_collection = db[\"users\"]\n",
    "# groups_collection = db[\"groups_collection\"]"
   ]
  },
  {
   "cell_type": "code",
   "execution_count": 5,
   "metadata": {},
   "outputs": [],
   "source": [
    "# Query in files_collection\n",
    "# files_collection.find_one({\"file_location\": \"/Users/tweber/Data/mosaicatcher-pipeline/2019-12-16-HWVTJAFXY/HG002x02/plots/JBROWSE/HG002x02PE20480-SV.bed.gz\"})\n",
    "# Show all documents from workflow_collection\n",
    "for doc in workflow_collection.find():\n",
    "    print(doc)"
   ]
  }
 ],
 "metadata": {
  "kernelspec": {
   "display_name": "depictio_dev",
   "language": "python",
   "name": "python3"
  },
  "language_info": {
   "codemirror_mode": {
    "name": "ipython",
    "version": 3
   },
   "file_extension": ".py",
   "mimetype": "text/x-python",
   "name": "python",
   "nbconvert_exporter": "python",
   "pygments_lexer": "ipython3",
   "version": "3.11.7"
  }
 },
 "nbformat": 4,
 "nbformat_minor": 2
}
