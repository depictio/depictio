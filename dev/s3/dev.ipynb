{
 "cells": [
  {
   "cell_type": "code",
   "execution_count": null,
   "metadata": {},
   "outputs": [],
   "source": [
    "!pip3 install minio"
   ]
  },
  {
   "cell_type": "code",
   "execution_count": null,
   "metadata": {},
   "outputs": [],
   "source": [
    "!mc ls local/depictio-bucket"
   ]
  },
  {
   "cell_type": "code",
   "execution_count": null,
   "metadata": {},
   "outputs": [],
   "source": [
    "!mc rm --recursive --force local/depictio-bucket/test_data/"
   ]
  },
  {
   "cell_type": "code",
   "execution_count": null,
   "metadata": {},
   "outputs": [],
   "source": [
    "from minio import Minio\n",
    "\n",
    "client = Minio(\n",
    "    \"localhost:9000\",\n",
    "    access_key=\"minio\",\n",
    "    secret_key=\"minio123\",\n",
    "    secure=False,\n",
    ")\n",
    "\n",
    "bucket = \"depictio-bucket\"\n",
    "\n",
    "client.remove_bucket(bucket)\n",
    "# # Remove list of objects.\n",
    "# errors = client.remove_objects(\n",
    "#     \"my-bucket\",\n",
    "#     [\n",
    "#         DeleteObject(\"my-object1\"),\n",
    "#         DeleteObject(\"my-object2\"),\n",
    "#         DeleteObject(\"my-object3\", \"13f88b18-8dcd-4c83-88f2-8631fdb6250c\"),\n",
    "#     ],\n",
    "# )\n",
    "# for error in errors:\n",
    "#     print(\"error occurred when deleting object\", error)\n",
    "\n",
    "# Remove a prefix recursively.\n",
    "# delete_object_list = map(\n",
    "#     lambda x: DeleteObject(x.object_name),\n",
    "#     client.list_objects(bucket, \"test_table\", recursive=True),\n",
    "# )\n",
    "# errors = client.remove_objects(bucket, delete_object_list)\n",
    "# for error in errors:\n",
    "#     print(\"error occurred when deleting object\", error)"
   ]
  },
  {
   "cell_type": "code",
   "execution_count": null,
   "metadata": {},
   "outputs": [],
   "source": [
    "import boto3\n",
    "\n",
    "# Initialize your S3 client outside of your endpoint function\n",
    "s3_client = boto3.client(\n",
    "    \"s3\",\n",
    "    aws_access_key_id=\"minio\",\n",
    "    aws_secret_access_key=\"minio123\",\n",
    "    endpoint_url=\"http://localhost:9000\",\n",
    ")\n",
    "# s3_client\n",
    "\n",
    "# s3 = boto3.resource('s3')\n",
    "bucket = \"depictio-bucket\"\n",
    "# List all buckets\n",
    "response = s3_client.list_buckets()\n",
    "# list all objects in a bucket\n",
    "objects = s3_client.list_objects(Bucket=bucket)\n",
    "print(objects)\n",
    "# Empty bucket of all objects\n",
    "# s3_client.delete_objects(Bucket=bucket, Delete={\"Objects\": [{\"Key\": obj[\"Key\"]} for obj in objects[\"Contents\"]]})\n",
    "\n",
    "for obj in objects[\"Contents\"]:\n",
    "    print(obj[\"Key\"])\n",
    "\n",
    "# List empty prefixes\n",
    "# for obj in objects[\"CommonPrefixes\"]:\n",
    "#     print(obj[\"Prefix\"])\n",
    "\n",
    "\n",
    "# bucket.objects.filter(Prefix=\"myprefix/\").delete()"
   ]
  }
 ],
 "metadata": {
  "kernelspec": {
   "display_name": "depictio_dev",
   "language": "python",
   "name": "python3"
  },
  "language_info": {
   "codemirror_mode": {
    "name": "ipython",
    "version": 3
   },
   "file_extension": ".py",
   "mimetype": "text/x-python",
   "name": "python",
   "nbconvert_exporter": "python",
   "pygments_lexer": "ipython3",
   "version": "3.11.7"
  }
 },
 "nbformat": 4,
 "nbformat_minor": 2
}
