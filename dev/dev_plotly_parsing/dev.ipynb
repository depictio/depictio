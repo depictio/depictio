{
 "cells": [
  {
   "cell_type": "code",
   "execution_count": null,
   "metadata": {},
   "outputs": [],
   "source": [
    "import re\n",
    "\n",
    "pattern = \"cell_selection\\/labels.tsv\"\n",
    "test_path = \"/Users/tweber/Data/mosaicatcher-pipeline/2019-09-17-HTVH5AFXY/HG02106x02/cell_selection/labels.tsv\"\n",
    "\n",
    "if re.match(pattern, test_path):\n",
    "    print(\"Match found\")\n",
    "    print(re.match(pattern, test_path).group())\n",
    "else:\n",
    "    print(\"No match\")"
   ]
  }
 ],
 "metadata": {
  "kernelspec": {
   "display_name": "depictio_dev",
   "language": "python",
   "name": "python3"
  },
  "language_info": {
   "codemirror_mode": {
    "name": "ipython",
    "version": 3
   },
   "file_extension": ".py",
   "mimetype": "text/x-python",
   "name": "python",
   "nbconvert_exporter": "python",
   "pygments_lexer": "ipython3",
   "version": "3.11.7"
  }
 },
 "nbformat": 4,
 "nbformat_minor": 2
}
