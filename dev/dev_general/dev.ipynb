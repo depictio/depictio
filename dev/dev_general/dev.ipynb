{
 "cells": [
  {
   "cell_type": "code",
   "execution_count": null,
   "metadata": {},
   "outputs": [],
   "source": [
    "import pymongo\n",
    "from pprint import pprint\n",
    "\n",
    "mongo_client = pymongo.MongoClient(\"mongodb://localhost:27018/\")\n",
    "mongo_db = mongo_client[\"depictioDB\"]\n",
    "\n",
    "workflow_name = \"ashleys-qc-pipeline\"\n",
    "collection = mongo_db[workflow_name]\n",
    "data_sources = collection.distinct(\n",
    "    \"metadata.report_general_stats_headers\", {\"wf_name\": workflow_name}\n",
    ")\n",
    "pprint(data_sources)"
   ]
  },
  {
   "cell_type": "code",
   "execution_count": null,
   "metadata": {},
   "outputs": [],
   "source": [
    "import pandas as pd\n",
    "\n",
    "df = pd.DataFrame.from_records([d[key] | {\"key\": key} for d in data_sources for key in d])\n",
    "df.groupby(\"namespace\")[\"description\"].unique().to_dict()"
   ]
  },
  {
   "cell_type": "code",
   "execution_count": null,
   "metadata": {},
   "outputs": [],
   "source": [
    "df.groupby(\"namespace\")[\"description\"].unique().to_dict()"
   ]
  },
  {
   "cell_type": "code",
   "execution_count": null,
   "metadata": {},
   "outputs": [],
   "source": [
    "dev_col = mongo_db[\"dev\"]\n",
    "dev_col.insert_many(df.to_dict(\"records\"))"
   ]
  },
  {
   "cell_type": "code",
   "execution_count": null,
   "metadata": {},
   "outputs": [],
   "source": [
    "# Query data from MongoDB and convert it to Arrow table\n",
    "cursor = dev_col.find({})\n",
    "df = pd.DataFrame(list(cursor))\n",
    "\n",
    "# Convert Arrow table back to pandas DataFrame\n",
    "df"
   ]
  }
 ],
 "metadata": {
  "kernelspec": {
   "display_name": "depictio",
   "language": "python",
   "name": "python3"
  },
  "language_info": {
   "codemirror_mode": {
    "name": "ipython",
    "version": 3
   },
   "file_extension": ".py",
   "mimetype": "text/x-python",
   "name": "python",
   "nbconvert_exporter": "python",
   "pygments_lexer": "ipython3",
   "version": "3.11.0"
  }
 },
 "nbformat": 4,
 "nbformat_minor": 2
}
