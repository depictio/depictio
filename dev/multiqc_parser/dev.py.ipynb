{
 "cells": [
  {
   "cell_type": "code",
   "execution_count": null,
   "id": "0",
   "metadata": {},
   "outputs": [],
   "source": [
    "from multiqc_parser import MultiQCParser"
   ]
  },
  {
   "cell_type": "code",
   "execution_count": null,
   "id": "1",
   "metadata": {},
   "outputs": [],
   "source": [
    "mqc_dir = \"/Users/tweber/Gits/workspaces/MultiQC-MegaQC/MultiQC_TestData\""
   ]
  },
  {
   "cell_type": "code",
   "execution_count": null,
   "id": "2",
   "metadata": {},
   "outputs": [],
   "source": [
    "# Initialize the parser\n",
    "parser = MultiQCParser(f\"{mqc_dir}/multiqc_output_multi_modules/multiqc_data/multiqc_data.json\")\n",
    "\n",
    "# Get basic info\n",
    "print(f\"Metadata: {parser.metadata}\")\n",
    "print(f\"Report date: {parser.metadata['report_creation_date']}\")\n",
    "print(f\"Modules: {parser.modules}\")\n",
    "print(f\"Samples: {parser.samples}\")\n",
    "print(f\"Number of samples: {len(parser.samples)}\")\n",
    "\n",
    "# Get raw data for a specific module, sample, and metric\n",
    "# fastqc_gc = parser.get_raw_data(module=\"multiqc_fastqc\")\n",
    "# fastqc_gc = parser.get_raw_data(module=\"multiqc_fastqc\", metric=\"%GC\")\n",
    "# print(f\"GC content: {fastqc_gc}\")\n",
    "\n",
    "# # Get all FastQC data as a pandas DataFrame\n",
    "fastqc_df = parser.to_pandas()\n",
    "# fastqc_df = parser.to_pandas(module=\"multiqc_fastqc\")\n",
    "fastqc_df.keys()\n",
    "\n",
    "# # Export all data to CSV\n",
    "# parser.export_to_csv(\"multiqc_parsed\")"
   ]
  },
  {
   "cell_type": "code",
   "execution_count": null,
   "id": "3",
   "metadata": {},
   "outputs": [],
   "source": [
    "parser.get_raw_data().keys()"
   ]
  },
  {
   "cell_type": "code",
   "execution_count": null,
   "id": "4",
   "metadata": {},
   "outputs": [],
   "source": [
    "parser.get_raw_data().get(\"multiqc_fastqc\")"
   ]
  },
  {
   "cell_type": "code",
   "execution_count": null,
   "id": "5",
   "metadata": {},
   "outputs": [],
   "source": [
    "parser.get_plot_data().keys()"
   ]
  },
  {
   "cell_type": "code",
   "execution_count": null,
   "id": "6",
   "metadata": {},
   "outputs": [],
   "source": [
    "parser.get_plot_data().get(\"fastqc_per_base_sequence_quality_plot\")"
   ]
  },
  {
   "cell_type": "code",
   "execution_count": null,
   "id": "7",
   "metadata": {},
   "outputs": [],
   "source": [
    "fastqc_df[\"multiqc_general_stats\"]"
   ]
  },
  {
   "cell_type": "code",
   "execution_count": null,
   "id": "8",
   "metadata": {},
   "outputs": [],
   "source": [
    "fastqc_df[\"multiqc_cutadapt\"]"
   ]
  },
  {
   "cell_type": "code",
   "execution_count": null,
   "id": "9",
   "metadata": {},
   "outputs": [],
   "source": [
    "fastqc_df[\"multiqc_fastqc\"]"
   ]
  },
  {
   "cell_type": "code",
   "execution_count": null,
   "id": "10",
   "metadata": {},
   "outputs": [],
   "source": []
  }
 ],
 "metadata": {
  "kernelspec": {
   "display_name": "multiqc_env",
   "language": "python",
   "name": "python3"
  },
  "language_info": {
   "codemirror_mode": {
    "name": "ipython",
    "version": 3
   },
   "file_extension": ".py",
   "mimetype": "text/x-python",
   "name": "python",
   "nbconvert_exporter": "python",
   "pygments_lexer": "ipython3",
   "version": "3.11.5"
  }
 },
 "nbformat": 4,
 "nbformat_minor": 5
}
