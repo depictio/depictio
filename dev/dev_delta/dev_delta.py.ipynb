{
 "cells": [
  {
   "cell_type": "code",
   "execution_count": 42,
   "metadata": {},
   "outputs": [],
   "source": [
    "import polars as pl\n",
    "import deltalake\n",
    "import os\n",
    "import sys"
   ]
  },
  {
   "cell_type": "code",
   "execution_count": 108,
   "metadata": {},
   "outputs": [
    {
     "name": "stdout",
     "output_type": "stream",
     "text": [
      "0-9b9a6e2f-67ad-4cae-8f1a-fc8e236950ac-0.parquet\n",
      "/Users/tweber/Gits/depictio/minio_data/depictio-bucket/65e5f007bad32df857a53cf2/65ef276f4d7931217cdc86ed/65ef276f4d7931217cdc86ee/0-9b9a6e2f-67ad-4cae-8f1a-fc8e236950ac-0.parquet\n",
      "parquet\n",
      "1-748aaf7b-d856-4336-bb90-91a374ff3092-0.parquet\n",
      "/Users/tweber/Gits/depictio/minio_data/depictio-bucket/65e5f007bad32df857a53cf2/65ef276f4d7931217cdc86ed/65ef276f4d7931217cdc86ee/1-748aaf7b-d856-4336-bb90-91a374ff3092-0.parquet\n",
      "parquet\n",
      "00000000000000000001.json\n",
      "/Users/tweber/Gits/depictio/minio_data/depictio-bucket/65e5f007bad32df857a53cf2/65ef276f4d7931217cdc86ed/65ef276f4d7931217cdc86ee/_delta_log/00000000000000000001.json\n",
      "00000000000000000000.json\n",
      "/Users/tweber/Gits/depictio/minio_data/depictio-bucket/65e5f007bad32df857a53cf2/65ef276f4d7931217cdc86ed/65ef276f4d7931217cdc86ee/_delta_log/00000000000000000000.json\n",
      "2-e7b20398-c95a-426c-9d88-8f7f82af7b83-0.parquet\n",
      "/Users/tweber/Gits/depictio/minio_data/depictio-bucket/65e5f007bad32df857a53cf2/65ef28b156aa35c814883d0e/65ef28b156aa35c814883d0f/2-e7b20398-c95a-426c-9d88-8f7f82af7b83-0.parquet\n",
      "parquet\n",
      "0-67887333-de31-48ea-9cdb-ba55cb8249a2-0.parquet\n",
      "/Users/tweber/Gits/depictio/minio_data/depictio-bucket/65e5f007bad32df857a53cf2/65ef28b156aa35c814883d0e/65ef28b156aa35c814883d0f/0-67887333-de31-48ea-9cdb-ba55cb8249a2-0.parquet\n",
      "parquet\n",
      "1-6a5cb8f5-05b4-41ce-bb2d-13653c54cc77-0.parquet\n",
      "/Users/tweber/Gits/depictio/minio_data/depictio-bucket/65e5f007bad32df857a53cf2/65ef28b156aa35c814883d0e/65ef28b156aa35c814883d0f/1-6a5cb8f5-05b4-41ce-bb2d-13653c54cc77-0.parquet\n",
      "parquet\n",
      "00000000000000000001.json\n",
      "/Users/tweber/Gits/depictio/minio_data/depictio-bucket/65e5f007bad32df857a53cf2/65ef28b156aa35c814883d0e/65ef28b156aa35c814883d0f/_delta_log/00000000000000000001.json\n",
      "00000000000000000000.json\n",
      "/Users/tweber/Gits/depictio/minio_data/depictio-bucket/65e5f007bad32df857a53cf2/65ef28b156aa35c814883d0e/65ef28b156aa35c814883d0f/_delta_log/00000000000000000000.json\n",
      "00000000000000000002.json\n",
      "/Users/tweber/Gits/depictio/minio_data/depictio-bucket/65e5f007bad32df857a53cf2/65ef28b156aa35c814883d0e/65ef28b156aa35c814883d0f/_delta_log/00000000000000000002.json\n",
      "0-7e37e5d8-c74a-4f58-ab6c-1e18ff86631c-0.parquet\n",
      "/Users/tweber/Gits/depictio/minio_data/depictio-bucket/65e5f007bad32df857a53cf2/65ef253f835c3dbb196daa7e/65ef253f835c3dbb196daa7f/0-7e37e5d8-c74a-4f58-ab6c-1e18ff86631c-0.parquet\n",
      "parquet\n",
      "00000000000000000000.json\n",
      "/Users/tweber/Gits/depictio/minio_data/depictio-bucket/65e5f007bad32df857a53cf2/65ef253f835c3dbb196daa7e/65ef253f835c3dbb196daa7f/_delta_log/00000000000000000000.json\n",
      "0-cb3706be-c99e-4f54-aa54-5da64dc92683-0.parquet\n",
      "/Users/tweber/Gits/depictio/minio_data/depictio-bucket/65e5f007bad32df857a53cf2/65ef23b230a2f8c6bfc86863/65ef23b230a2f8c6bfc86864/0-cb3706be-c99e-4f54-aa54-5da64dc92683-0.parquet\n",
      "parquet\n",
      "00000000000000000000.json\n",
      "/Users/tweber/Gits/depictio/minio_data/depictio-bucket/65e5f007bad32df857a53cf2/65ef23b230a2f8c6bfc86863/65ef23b230a2f8c6bfc86864/_delta_log/00000000000000000000.json\n",
      "0-d6979c96-026b-4fce-b450-5a764a77bbcf-0.parquet\n",
      "/Users/tweber/Gits/depictio/minio_data/depictio-bucket/65e5f007bad32df857a53cf2/65ef29c59f5e57b6865493af/65ef29c59f5e57b6865493b0/0-d6979c96-026b-4fce-b450-5a764a77bbcf-0.parquet\n",
      "parquet\n",
      "00000000000000000000.json\n",
      "/Users/tweber/Gits/depictio/minio_data/depictio-bucket/65e5f007bad32df857a53cf2/65ef29c59f5e57b6865493af/65ef29c59f5e57b6865493b0/_delta_log/00000000000000000000.json\n",
      "0-60880e6f-9411-4a1f-a600-a9f39acf326d-0.parquet\n",
      "/Users/tweber/Gits/depictio/minio_data/depictio-bucket/65e5f007bad32df857a53cf2/65ef26bc7d8b30a11e6535fa/65ef26bc7d8b30a11e6535fb/0-60880e6f-9411-4a1f-a600-a9f39acf326d-0.parquet\n",
      "parquet\n",
      "00000000000000000000.json\n",
      "/Users/tweber/Gits/depictio/minio_data/depictio-bucket/65e5f007bad32df857a53cf2/65ef26bc7d8b30a11e6535fa/65ef26bc7d8b30a11e6535fb/_delta_log/00000000000000000000.json\n",
      "0-77ca152b-ae11-42b1-a6ea-bb4ea8f716ea-0.parquet\n",
      "/Users/tweber/Gits/depictio/minio_data/depictio-bucket/65e5f007bad32df857a53cf2/65ef256a61807186a4631bf7/65ef256a61807186a4631bf8/0-77ca152b-ae11-42b1-a6ea-bb4ea8f716ea-0.parquet\n",
      "parquet\n",
      "00000000000000000000.json\n",
      "/Users/tweber/Gits/depictio/minio_data/depictio-bucket/65e5f007bad32df857a53cf2/65ef256a61807186a4631bf7/65ef256a61807186a4631bf8/_delta_log/00000000000000000000.json\n",
      "0-94935315-075d-4473-ab53-1306fbfcc301-0.parquet\n",
      "/Users/tweber/Gits/depictio/minio_data/depictio-bucket/65e5f007bad32df857a53cf2/65ef2b750748aa8bd3fa478d/65ef2b750748aa8bd3fa478e/0-94935315-075d-4473-ab53-1306fbfcc301-0.parquet\n",
      "parquet\n",
      "00000000000000000000.json\n",
      "/Users/tweber/Gits/depictio/minio_data/depictio-bucket/65e5f007bad32df857a53cf2/65ef2b750748aa8bd3fa478d/65ef2b750748aa8bd3fa478e/_delta_log/00000000000000000000.json\n",
      "1-04b86e4c-808e-470c-b70f-c5c498bcb733-0.parquet\n",
      "/Users/tweber/Gits/depictio/minio_data/depictio-bucket/65e5f007bad32df857a53cf2/65ef2b8624e251dd1fb14e9c/65ef2b8624e251dd1fb14e9d/1-04b86e4c-808e-470c-b70f-c5c498bcb733-0.parquet\n",
      "parquet\n",
      "2-d4fc6632-4431-4bf6-b65a-983c6e2d059c-0.parquet\n",
      "/Users/tweber/Gits/depictio/minio_data/depictio-bucket/65e5f007bad32df857a53cf2/65ef2b8624e251dd1fb14e9c/65ef2b8624e251dd1fb14e9d/2-d4fc6632-4431-4bf6-b65a-983c6e2d059c-0.parquet\n",
      "parquet\n",
      "0-344780b7-6910-45dc-8523-7ed364d1f4f5-0.parquet\n",
      "/Users/tweber/Gits/depictio/minio_data/depictio-bucket/65e5f007bad32df857a53cf2/65ef2b8624e251dd1fb14e9c/65ef2b8624e251dd1fb14e9d/0-344780b7-6910-45dc-8523-7ed364d1f4f5-0.parquet\n",
      "parquet\n",
      "00000000000000000001.json\n",
      "/Users/tweber/Gits/depictio/minio_data/depictio-bucket/65e5f007bad32df857a53cf2/65ef2b8624e251dd1fb14e9c/65ef2b8624e251dd1fb14e9d/_delta_log/00000000000000000001.json\n",
      "00000000000000000000.json\n",
      "/Users/tweber/Gits/depictio/minio_data/depictio-bucket/65e5f007bad32df857a53cf2/65ef2b8624e251dd1fb14e9c/65ef2b8624e251dd1fb14e9d/_delta_log/00000000000000000000.json\n",
      "00000000000000000002.json\n",
      "/Users/tweber/Gits/depictio/minio_data/depictio-bucket/65e5f007bad32df857a53cf2/65ef2b8624e251dd1fb14e9c/65ef2b8624e251dd1fb14e9d/_delta_log/00000000000000000002.json\n",
      "0-66f982e8-234a-44f9-8694-f495ef934090-0.parquet\n",
      "/Users/tweber/Gits/depictio/minio_data/depictio-bucket/65e5f007bad32df857a53cf2/65ef26ead6c2175b3dbf4e0a/65ef26ead6c2175b3dbf4e0b/0-66f982e8-234a-44f9-8694-f495ef934090-0.parquet\n",
      "parquet\n",
      "00000000000000000000.json\n",
      "/Users/tweber/Gits/depictio/minio_data/depictio-bucket/65e5f007bad32df857a53cf2/65ef26ead6c2175b3dbf4e0a/65ef26ead6c2175b3dbf4e0b/_delta_log/00000000000000000000.json\n",
      "0-60cee5c7-c4f3-4549-a01b-4dbf7c367ac1-0.parquet\n",
      "/Users/tweber/Gits/depictio/minio_data/depictio-bucket/test_table/0-60cee5c7-c4f3-4549-a01b-4dbf7c367ac1-0.parquet\n",
      "00000000000000000000.json\n",
      "/Users/tweber/Gits/depictio/minio_data/depictio-bucket/test_table/_delta_log/00000000000000000000.json\n",
      "/Users/tweber/Gits/depictio/minio_data/depictio-bucket/65e5f007bad32df857a53cf2/65ef26ead6c2175b3dbf4e0a/65ef26ead6c2175b3dbf4e0b/\n"
     ]
    }
   ],
   "source": [
    "location = \"/Users/tweber/Gits/depictio/minio_data/depictio-bucket/\"\n",
    "# location = f\"../../{location}\"\n",
    "for root, dirs, files in os.walk(location):\n",
    "    for file in files:\n",
    "        print(file)\n",
    "        print(os.path.join(root, file))\n",
    "        if (file.endswith(\".parquet\")) and (\"test_table\" not in os.path.join(root, file)):\n",
    "            print(\"parquet\")\n",
    "            delta_table = \"/\".join(os.path.join(root, file).split(\"/\")[:-1]) + \"/\"\n",
    "print(delta_table)\n",
    "delta_table = \"/Users/tweber/Gits/depictio/minio_data/depictio-bucket/65e5f007bad32df857a53cf2/65ef2b8624e251dd1fb14e9c/65ef2b8624e251dd1fb14e9d/\""
   ]
  },
  {
   "cell_type": "code",
   "execution_count": 109,
   "metadata": {},
   "outputs": [
    {
     "name": "stdout",
     "output_type": "stream",
     "text": [
      "[ 128 Mar 11 16:36]  \u001b[01;34m/Users/tweber/Gits/depictio/minio_data/depictio-bucket/\u001b[0m\n",
      "├── [ 448 Mar 11 17:04]  \u001b[01;34m65e5f007bad32df857a53cf2\u001b[0m\n",
      "│   ├── [  96 Mar 11 16:29]  \u001b[01;34m65ef236fd70ed19559c1d739\u001b[0m\n",
      "│   │   └── [  64 Mar 11 16:29]  \u001b[01;34m65ef236fd70ed19559c1d73a\u001b[0m\n",
      "│   ├── [  96 Mar 11 16:30]  \u001b[01;34m65ef23aad70ed19559c1d7e3\u001b[0m\n",
      "│   │   └── [  64 Mar 11 16:30]  \u001b[01;34m65ef23aad70ed19559c1d7e4\u001b[0m\n",
      "│   ├── [  96 Mar 11 16:30]  \u001b[01;34m65ef23b230a2f8c6bfc86863\u001b[0m\n",
      "│   │   └── [ 128 Mar 11 16:30]  \u001b[01;34m65ef23b230a2f8c6bfc86864\u001b[0m\n",
      "│   │       ├── [410K Mar 11 16:30]  \u001b[00m0-cb3706be-c99e-4f54-aa54-5da64dc92683-0.parquet\u001b[0m\n",
      "│   │       └── [  96 Mar 11 16:30]  \u001b[01;34m_delta_log\u001b[0m\n",
      "│   │           └── [5.2K Mar 11 16:30]  \u001b[00m00000000000000000000.json\u001b[0m\n",
      "│   ├── [  96 Mar 11 16:37]  \u001b[01;34m65ef253f835c3dbb196daa7e\u001b[0m\n",
      "│   │   └── [ 128 Mar 11 16:37]  \u001b[01;34m65ef253f835c3dbb196daa7f\u001b[0m\n",
      "│   │       ├── [410K Mar 11 16:37]  \u001b[00m0-7e37e5d8-c74a-4f58-ab6c-1e18ff86631c-0.parquet\u001b[0m\n",
      "│   │       └── [  96 Mar 11 16:37]  \u001b[01;34m_delta_log\u001b[0m\n",
      "│   │           └── [5.2K Mar 11 16:37]  \u001b[00m00000000000000000000.json\u001b[0m\n",
      "│   ├── [  96 Mar 11 16:38]  \u001b[01;34m65ef256a61807186a4631bf7\u001b[0m\n",
      "│   │   └── [ 128 Mar 11 16:38]  \u001b[01;34m65ef256a61807186a4631bf8\u001b[0m\n",
      "│   │       ├── [410K Mar 11 16:38]  \u001b[00m0-77ca152b-ae11-42b1-a6ea-bb4ea8f716ea-0.parquet\u001b[0m\n",
      "│   │       └── [  96 Mar 11 16:38]  \u001b[01;34m_delta_log\u001b[0m\n",
      "│   │           └── [5.2K Mar 11 16:38]  \u001b[00m00000000000000000000.json\u001b[0m\n",
      "│   ├── [  96 Mar 11 16:43]  \u001b[01;34m65ef26bc7d8b30a11e6535fa\u001b[0m\n",
      "│   │   └── [ 128 Mar 11 16:43]  \u001b[01;34m65ef26bc7d8b30a11e6535fb\u001b[0m\n",
      "│   │       ├── [410K Mar 11 16:43]  \u001b[00m0-60880e6f-9411-4a1f-a600-a9f39acf326d-0.parquet\u001b[0m\n",
      "│   │       └── [  96 Mar 11 16:43]  \u001b[01;34m_delta_log\u001b[0m\n",
      "│   │           └── [5.2K Mar 11 16:43]  \u001b[00m00000000000000000000.json\u001b[0m\n",
      "│   ├── [  96 Mar 11 16:44]  \u001b[01;34m65ef26ead6c2175b3dbf4e0a\u001b[0m\n",
      "│   │   └── [ 128 Mar 11 16:44]  \u001b[01;34m65ef26ead6c2175b3dbf4e0b\u001b[0m\n",
      "│   │       ├── [410K Mar 11 16:44]  \u001b[00m0-66f982e8-234a-44f9-8694-f495ef934090-0.parquet\u001b[0m\n",
      "│   │       └── [  96 Mar 11 16:44]  \u001b[01;34m_delta_log\u001b[0m\n",
      "│   │           └── [5.2K Mar 11 16:44]  \u001b[00m00000000000000000000.json\u001b[0m\n",
      "│   ├── [  96 Mar 11 16:46]  \u001b[01;34m65ef276f4d7931217cdc86ed\u001b[0m\n",
      "│   │   └── [ 160 Mar 11 16:48]  \u001b[01;34m65ef276f4d7931217cdc86ee\u001b[0m\n",
      "│   │       ├── [410K Mar 11 16:46]  \u001b[00m0-9b9a6e2f-67ad-4cae-8f1a-fc8e236950ac-0.parquet\u001b[0m\n",
      "│   │       ├── [410K Mar 11 16:48]  \u001b[00m1-748aaf7b-d856-4336-bb90-91a374ff3092-0.parquet\u001b[0m\n",
      "│   │       └── [ 128 Mar 11 16:48]  \u001b[01;34m_delta_log\u001b[0m\n",
      "│   │           ├── [5.2K Mar 11 16:46]  \u001b[00m00000000000000000000.json\u001b[0m\n",
      "│   │           └── [1.8K Mar 11 16:48]  \u001b[00m00000000000000000001.json\u001b[0m\n",
      "│   ├── [  96 Mar 11 16:52]  \u001b[01;34m65ef28b156aa35c814883d0e\u001b[0m\n",
      "│   │   └── [ 192 Mar 11 16:53]  \u001b[01;34m65ef28b156aa35c814883d0f\u001b[0m\n",
      "│   │       ├── [410K Mar 11 16:52]  \u001b[00m0-67887333-de31-48ea-9cdb-ba55cb8249a2-0.parquet\u001b[0m\n",
      "│   │       ├── [410K Mar 11 16:52]  \u001b[00m1-6a5cb8f5-05b4-41ce-bb2d-13653c54cc77-0.parquet\u001b[0m\n",
      "│   │       ├── [410K Mar 11 16:53]  \u001b[00m2-e7b20398-c95a-426c-9d88-8f7f82af7b83-0.parquet\u001b[0m\n",
      "│   │       └── [ 160 Mar 11 16:53]  \u001b[01;34m_delta_log\u001b[0m\n",
      "│   │           ├── [5.2K Mar 11 16:52]  \u001b[00m00000000000000000000.json\u001b[0m\n",
      "│   │           ├── [1.8K Mar 11 16:52]  \u001b[00m00000000000000000001.json\u001b[0m\n",
      "│   │           └── [1.8K Mar 11 16:53]  \u001b[00m00000000000000000002.json\u001b[0m\n",
      "│   ├── [  96 Mar 11 16:56]  \u001b[01;34m65ef29c59f5e57b6865493af\u001b[0m\n",
      "│   │   └── [ 128 Mar 11 16:56]  \u001b[01;34m65ef29c59f5e57b6865493b0\u001b[0m\n",
      "│   │       ├── [410K Mar 11 16:56]  \u001b[00m0-d6979c96-026b-4fce-b450-5a764a77bbcf-0.parquet\u001b[0m\n",
      "│   │       └── [  96 Mar 11 16:56]  \u001b[01;34m_delta_log\u001b[0m\n",
      "│   │           └── [5.2K Mar 11 16:56]  \u001b[00m00000000000000000000.json\u001b[0m\n",
      "│   ├── [  96 Mar 11 17:04]  \u001b[01;34m65ef2b750748aa8bd3fa478d\u001b[0m\n",
      "│   │   └── [ 128 Mar 11 17:04]  \u001b[01;34m65ef2b750748aa8bd3fa478e\u001b[0m\n",
      "│   │       ├── [410K Mar 11 17:04]  \u001b[00m0-94935315-075d-4473-ab53-1306fbfcc301-0.parquet\u001b[0m\n",
      "│   │       └── [  96 Mar 11 17:04]  \u001b[01;34m_delta_log\u001b[0m\n",
      "│   │           └── [5.2K Mar 11 17:04]  \u001b[00m00000000000000000000.json\u001b[0m\n",
      "│   └── [  96 Mar 11 17:04]  \u001b[01;34m65ef2b8624e251dd1fb14e9c\u001b[0m\n",
      "│       └── [ 192 Mar 11 17:04]  \u001b[01;34m65ef2b8624e251dd1fb14e9d\u001b[0m\n",
      "│           ├── [410K Mar 11 17:04]  \u001b[00m0-344780b7-6910-45dc-8523-7ed364d1f4f5-0.parquet\u001b[0m\n",
      "│           ├── [410K Mar 11 17:04]  \u001b[00m1-04b86e4c-808e-470c-b70f-c5c498bcb733-0.parquet\u001b[0m\n",
      "│           ├── [410K Mar 11 17:04]  \u001b[00m2-d4fc6632-4431-4bf6-b65a-983c6e2d059c-0.parquet\u001b[0m\n",
      "│           └── [ 160 Mar 11 17:04]  \u001b[01;34m_delta_log\u001b[0m\n",
      "│               ├── [5.2K Mar 11 17:04]  \u001b[00m00000000000000000000.json\u001b[0m\n",
      "│               ├── [1.8K Mar 11 17:04]  \u001b[00m00000000000000000001.json\u001b[0m\n",
      "│               └── [1.8K Mar 11 17:04]  \u001b[00m00000000000000000002.json\u001b[0m\n",
      "└── [ 128 Mar 11 16:36]  \u001b[01;34mtest_table\u001b[0m\n",
      "    ├── [ 879 Mar 11 16:36]  \u001b[00m0-60cee5c7-c4f3-4549-a01b-4dbf7c367ac1-0.parquet\u001b[0m\n",
      "    └── [  96 Mar 11 16:36]  \u001b[01;34m_delta_log\u001b[0m\n",
      "        └── [1.6K Mar 11 16:36]  \u001b[00m00000000000000000000.json\u001b[0m\n",
      "\n",
      "38 directories, 32 files\n"
     ]
    }
   ],
   "source": [
    "!tree -h -D $location"
   ]
  },
  {
   "cell_type": "code",
   "execution_count": 110,
   "metadata": {},
   "outputs": [
    {
     "name": "stdout",
     "output_type": "stream",
     "text": [
      "[ 192 Mar 11 17:04]  \u001b[01;34m/Users/tweber/Gits/depictio/minio_data/depictio-bucket/65e5f007bad32df857a53cf2/65ef2b8624e251dd1fb14e9c/65ef2b8624e251dd1fb14e9d/\u001b[0m\n",
      "├── [410K Mar 11 17:04]  \u001b[00m0-344780b7-6910-45dc-8523-7ed364d1f4f5-0.parquet\u001b[0m\n",
      "├── [410K Mar 11 17:04]  \u001b[00m1-04b86e4c-808e-470c-b70f-c5c498bcb733-0.parquet\u001b[0m\n",
      "├── [410K Mar 11 17:04]  \u001b[00m2-d4fc6632-4431-4bf6-b65a-983c6e2d059c-0.parquet\u001b[0m\n",
      "└── [ 160 Mar 11 17:04]  \u001b[01;34m_delta_log\u001b[0m\n",
      "    ├── [5.2K Mar 11 17:04]  \u001b[00m00000000000000000000.json\u001b[0m\n",
      "    ├── [1.8K Mar 11 17:04]  \u001b[00m00000000000000000001.json\u001b[0m\n",
      "    └── [1.8K Mar 11 17:04]  \u001b[00m00000000000000000002.json\u001b[0m\n",
      "\n",
      "2 directories, 6 files\n"
     ]
    }
   ],
   "source": [
    "!tree -h -D $delta_table"
   ]
  },
  {
   "cell_type": "code",
   "execution_count": 107,
   "metadata": {},
   "outputs": [
    {
     "name": "stdout",
     "output_type": "stream",
     "text": [
      "shape: (6_720, 1)\n",
      "┌───────────────────────────┐\n",
      "│ depictio_aggregation_time │\n",
      "│ ---                       │\n",
      "│ str                       │\n",
      "╞═══════════════════════════╡\n",
      "│ 2024-03-11 15:46:55       │\n",
      "│ 2024-03-11 15:46:55       │\n",
      "│ 2024-03-11 15:46:55       │\n",
      "│ 2024-03-11 15:46:55       │\n",
      "│ 2024-03-11 15:46:55       │\n",
      "│ …                         │\n",
      "│ 2024-03-11 15:46:55       │\n",
      "│ 2024-03-11 15:46:55       │\n",
      "│ 2024-03-11 15:46:55       │\n",
      "│ 2024-03-11 15:46:55       │\n",
      "│ 2024-03-11 15:46:55       │\n",
      "└───────────────────────────┘\n"
     ]
    }
   ],
   "source": [
    "with pl.Config(fmt_str_lengths=50):\n",
    "    print(pl.read_delta(delta_table, version=0).select(\"depictio_aggregation_time\"))"
   ]
  },
  {
   "cell_type": "code",
   "execution_count": 6,
   "metadata": {},
   "outputs": [
    {
     "name": "stdout",
     "output_type": "stream",
     "text": [
      "total 0\n",
      "drwxr-xr-x  4 tweber  staff   128B Mar 11 14:26 \u001b[34m.\u001b[m\u001b[m\n",
      "drwxr-xr-x  5 tweber  staff   160B Mar 11 14:26 \u001b[34m..\u001b[m\u001b[m\n",
      "drwxr-xr-x  3 tweber  staff    96B Mar 11 14:26 \u001b[34m00000000000000000000.json\u001b[m\u001b[m\n",
      "drwxr-xr-x  3 tweber  staff    96B Mar 11 14:26 \u001b[34m00000000000000000001.json\u001b[m\u001b[m\n"
     ]
    }
   ],
   "source": [
    "!ls -alh ../../minio_data/depictio-bucket/65e5f007bad32df857a53cf2/65ef057b6832d5ac36e3a1df/65ef057b6832d5ac36e3a1e0/_delta_log"
   ]
  },
  {
   "cell_type": "code",
   "execution_count": 15,
   "metadata": {},
   "outputs": [
    {
     "name": "stdout",
     "output_type": "stream",
     "text": [
      "\u001b[34m0-7ba3c483-ced7-47cb-ad71-01822acd5b43-0.parquet\u001b[m\u001b[m\n",
      "\u001b[34m_delta_log\u001b[m\u001b[m\n"
     ]
    }
   ],
   "source": [
    "!ls ../.././minio_data/depictio-bucket/65e5f007bad32df857a53cf2/65ef0cf6ba771d68d82abe9e/65ef0cf6ba771d68d82abe9f"
   ]
  },
  {
   "cell_type": "code",
   "execution_count": 17,
   "metadata": {},
   "outputs": [
    {
     "ename": "TableNotFoundError",
     "evalue": "no log files",
     "output_type": "error",
     "traceback": [
      "\u001b[0;31m---------------------------------------------------------------------------\u001b[0m",
      "\u001b[0;31mTableNotFoundError\u001b[0m                        Traceback (most recent call last)",
      "Cell \u001b[0;32mIn[17], line 1\u001b[0m\n\u001b[0;32m----> 1\u001b[0m dt \u001b[38;5;241m=\u001b[39m \u001b[43mdeltalake\u001b[49m\u001b[38;5;241;43m.\u001b[39;49m\u001b[43mDeltaTable\u001b[49m\u001b[43m(\u001b[49m\u001b[38;5;124;43m\"\u001b[39;49m\u001b[38;5;124;43m../../minio_data/depictio-bucket/65e5f007bad32df857a53cf2/65ef0cf6ba771d68d82abe9e/65ef0cf6ba771d68d82abe9f/\u001b[39;49m\u001b[38;5;124;43m\"\u001b[39;49m\u001b[43m)\u001b[49m\n",
      "File \u001b[0;32m~/miniconda3/envs/depictio_dev/lib/python3.11/site-packages/deltalake/table.py:401\u001b[0m, in \u001b[0;36mDeltaTable.__init__\u001b[0;34m(self, table_uri, version, storage_options, without_files, log_buffer_size)\u001b[0m\n\u001b[1;32m    381\u001b[0m \u001b[38;5;250m\u001b[39m\u001b[38;5;124;03m\"\"\"\u001b[39;00m\n\u001b[1;32m    382\u001b[0m \u001b[38;5;124;03mCreate the Delta Table from a path with an optional version.\u001b[39;00m\n\u001b[1;32m    383\u001b[0m \u001b[38;5;124;03mMultiple StorageBackends are currently supported: AWS S3, Azure Data Lake Storage Gen2, Google Cloud Storage (GCS) and local URI.\u001b[39;00m\n\u001b[0;32m   (...)\u001b[0m\n\u001b[1;32m    398\u001b[0m \n\u001b[1;32m    399\u001b[0m \u001b[38;5;124;03m\"\"\"\u001b[39;00m\n\u001b[1;32m    400\u001b[0m \u001b[38;5;28mself\u001b[39m\u001b[38;5;241m.\u001b[39m_storage_options \u001b[38;5;241m=\u001b[39m storage_options\n\u001b[0;32m--> 401\u001b[0m \u001b[38;5;28mself\u001b[39m\u001b[38;5;241m.\u001b[39m_table \u001b[38;5;241m=\u001b[39m \u001b[43mRawDeltaTable\u001b[49m\u001b[43m(\u001b[49m\n\u001b[1;32m    402\u001b[0m \u001b[43m    \u001b[49m\u001b[38;5;28;43mstr\u001b[39;49m\u001b[43m(\u001b[49m\u001b[43mtable_uri\u001b[49m\u001b[43m)\u001b[49m\u001b[43m,\u001b[49m\n\u001b[1;32m    403\u001b[0m \u001b[43m    \u001b[49m\u001b[43mversion\u001b[49m\u001b[38;5;241;43m=\u001b[39;49m\u001b[43mversion\u001b[49m\u001b[43m,\u001b[49m\n\u001b[1;32m    404\u001b[0m \u001b[43m    \u001b[49m\u001b[43mstorage_options\u001b[49m\u001b[38;5;241;43m=\u001b[39;49m\u001b[43mstorage_options\u001b[49m\u001b[43m,\u001b[49m\n\u001b[1;32m    405\u001b[0m \u001b[43m    \u001b[49m\u001b[43mwithout_files\u001b[49m\u001b[38;5;241;43m=\u001b[39;49m\u001b[43mwithout_files\u001b[49m\u001b[43m,\u001b[49m\n\u001b[1;32m    406\u001b[0m \u001b[43m    \u001b[49m\u001b[43mlog_buffer_size\u001b[49m\u001b[38;5;241;43m=\u001b[39;49m\u001b[43mlog_buffer_size\u001b[49m\u001b[43m,\u001b[49m\n\u001b[1;32m    407\u001b[0m \u001b[43m\u001b[49m\u001b[43m)\u001b[49m\n",
      "\u001b[0;31mTableNotFoundError\u001b[0m: no log files"
     ]
    }
   ],
   "source": [
    "dt = deltalake.DeltaTable(\"../../minio_data/depictio-bucket/65e5f007bad32df857a53cf2/65ef0cf6ba771d68d82abe9e/65ef0cf6ba771d68d82abe9f/\")"
   ]
  },
  {
   "cell_type": "code",
   "execution_count": 75,
   "metadata": {},
   "outputs": [],
   "source": [
    "import pandas as pd\n",
    "\n",
    "\n",
    "df = pd.DataFrame([{\"id\": 1, \"name\": \"foo\"}, {\"id\": 2, \"name\": \"bar\"}, {\"id\": 3, \"name\": \"baz\"}])\n",
    "\n",
    "pl_df = pl.DataFrame(df)\n",
    "\n",
    "pl_df.write_delta(\"../../minio_data/depictio-bucket/test_table/\", mode=\"overwrite\")"
   ]
  },
  {
   "cell_type": "code",
   "execution_count": 45,
   "metadata": {},
   "outputs": [
    {
     "data": {
      "text/html": [
       "<div><style>\n",
       ".dataframe > thead > tr,\n",
       ".dataframe > tbody > tr {\n",
       "  text-align: right;\n",
       "  white-space: pre-wrap;\n",
       "}\n",
       "</style>\n",
       "<small>shape: (3, 2)</small><table border=\"1\" class=\"dataframe\"><thead><tr><th>id</th><th>name</th></tr><tr><td>i64</td><td>str</td></tr></thead><tbody><tr><td>1</td><td>&quot;foo&quot;</td></tr><tr><td>2</td><td>&quot;bar&quot;</td></tr><tr><td>3</td><td>&quot;baz&quot;</td></tr></tbody></table></div>"
      ],
      "text/plain": [
       "shape: (3, 2)\n",
       "┌─────┬──────┐\n",
       "│ id  ┆ name │\n",
       "│ --- ┆ ---  │\n",
       "│ i64 ┆ str  │\n",
       "╞═════╪══════╡\n",
       "│ 1   ┆ foo  │\n",
       "│ 2   ┆ bar  │\n",
       "│ 3   ┆ baz  │\n",
       "└─────┴──────┘"
      ]
     },
     "execution_count": 45,
     "metadata": {},
     "output_type": "execute_result"
    }
   ],
   "source": [
    "pl.read_delta(\"../../minio_data/depictio-bucket/test_table\", version=0)"
   ]
  },
  {
   "cell_type": "code",
   "execution_count": 25,
   "metadata": {},
   "outputs": [
    {
     "ename": "TableNotFoundError",
     "evalue": "no log files",
     "output_type": "error",
     "traceback": [
      "\u001b[0;31m---------------------------------------------------------------------------\u001b[0m",
      "\u001b[0;31mTableNotFoundError\u001b[0m                        Traceback (most recent call last)",
      "Cell \u001b[0;32mIn[25], line 1\u001b[0m\n\u001b[0;32m----> 1\u001b[0m \u001b[43mpl\u001b[49m\u001b[38;5;241;43m.\u001b[39;49m\u001b[43mread_delta\u001b[49m\u001b[43m(\u001b[49m\u001b[38;5;124;43m\"\u001b[39;49m\u001b[38;5;124;43m../.././minio_data/depictio-bucket/65e5f007bad32df857a53cf2/65ef0ef8cbb1b4b72250fb0f/65ef0ef8cbb1b4b72250fb10/\u001b[39;49m\u001b[38;5;124;43m\"\u001b[39;49m\u001b[43m)\u001b[49m\n",
      "File \u001b[0;32m~/miniconda3/envs/depictio_dev/lib/python3.11/site-packages/polars/io/delta.py:132\u001b[0m, in \u001b[0;36mread_delta\u001b[0;34m(source, version, columns, storage_options, delta_table_options, pyarrow_options)\u001b[0m\n\u001b[1;32m    128\u001b[0m     pyarrow_options \u001b[38;5;241m=\u001b[39m {}\n\u001b[1;32m    130\u001b[0m resolved_uri \u001b[38;5;241m=\u001b[39m _resolve_delta_lake_uri(source)\n\u001b[0;32m--> 132\u001b[0m dl_tbl \u001b[38;5;241m=\u001b[39m \u001b[43m_get_delta_lake_table\u001b[49m\u001b[43m(\u001b[49m\n\u001b[1;32m    133\u001b[0m \u001b[43m    \u001b[49m\u001b[43mtable_path\u001b[49m\u001b[38;5;241;43m=\u001b[39;49m\u001b[43mresolved_uri\u001b[49m\u001b[43m,\u001b[49m\n\u001b[1;32m    134\u001b[0m \u001b[43m    \u001b[49m\u001b[43mversion\u001b[49m\u001b[38;5;241;43m=\u001b[39;49m\u001b[43mversion\u001b[49m\u001b[43m,\u001b[49m\n\u001b[1;32m    135\u001b[0m \u001b[43m    \u001b[49m\u001b[43mstorage_options\u001b[49m\u001b[38;5;241;43m=\u001b[39;49m\u001b[43mstorage_options\u001b[49m\u001b[43m,\u001b[49m\n\u001b[1;32m    136\u001b[0m \u001b[43m    \u001b[49m\u001b[43mdelta_table_options\u001b[49m\u001b[38;5;241;43m=\u001b[39;49m\u001b[43mdelta_table_options\u001b[49m\u001b[43m,\u001b[49m\n\u001b[1;32m    137\u001b[0m \u001b[43m\u001b[49m\u001b[43m)\u001b[49m\n\u001b[1;32m    139\u001b[0m \u001b[38;5;28;01mreturn\u001b[39;00m from_arrow(dl_tbl\u001b[38;5;241m.\u001b[39mto_pyarrow_table(columns\u001b[38;5;241m=\u001b[39mcolumns, \u001b[38;5;241m*\u001b[39m\u001b[38;5;241m*\u001b[39mpyarrow_options))\n",
      "File \u001b[0;32m~/miniconda3/envs/depictio_dev/lib/python3.11/site-packages/polars/io/delta.py:301\u001b[0m, in \u001b[0;36m_get_delta_lake_table\u001b[0;34m(table_path, version, storage_options, delta_table_options)\u001b[0m\n\u001b[1;32m    298\u001b[0m \u001b[38;5;28;01mif\u001b[39;00m delta_table_options \u001b[38;5;129;01mis\u001b[39;00m \u001b[38;5;28;01mNone\u001b[39;00m:\n\u001b[1;32m    299\u001b[0m     delta_table_options \u001b[38;5;241m=\u001b[39m {}\n\u001b[0;32m--> 301\u001b[0m dl_tbl \u001b[38;5;241m=\u001b[39m \u001b[43mdeltalake\u001b[49m\u001b[38;5;241;43m.\u001b[39;49m\u001b[43mDeltaTable\u001b[49m\u001b[43m(\u001b[49m\n\u001b[1;32m    302\u001b[0m \u001b[43m    \u001b[49m\u001b[43mtable_path\u001b[49m\u001b[43m,\u001b[49m\n\u001b[1;32m    303\u001b[0m \u001b[43m    \u001b[49m\u001b[43mversion\u001b[49m\u001b[38;5;241;43m=\u001b[39;49m\u001b[43mversion\u001b[49m\u001b[43m,\u001b[49m\n\u001b[1;32m    304\u001b[0m \u001b[43m    \u001b[49m\u001b[43mstorage_options\u001b[49m\u001b[38;5;241;43m=\u001b[39;49m\u001b[43mstorage_options\u001b[49m\u001b[43m,\u001b[49m\n\u001b[1;32m    305\u001b[0m \u001b[43m    \u001b[49m\u001b[38;5;241;43m*\u001b[39;49m\u001b[38;5;241;43m*\u001b[39;49m\u001b[43mdelta_table_options\u001b[49m\u001b[43m,\u001b[49m\n\u001b[1;32m    306\u001b[0m \u001b[43m\u001b[49m\u001b[43m)\u001b[49m\n\u001b[1;32m    308\u001b[0m \u001b[38;5;28;01mreturn\u001b[39;00m dl_tbl\n",
      "File \u001b[0;32m~/miniconda3/envs/depictio_dev/lib/python3.11/site-packages/deltalake/table.py:401\u001b[0m, in \u001b[0;36mDeltaTable.__init__\u001b[0;34m(self, table_uri, version, storage_options, without_files, log_buffer_size)\u001b[0m\n\u001b[1;32m    381\u001b[0m \u001b[38;5;250m\u001b[39m\u001b[38;5;124;03m\"\"\"\u001b[39;00m\n\u001b[1;32m    382\u001b[0m \u001b[38;5;124;03mCreate the Delta Table from a path with an optional version.\u001b[39;00m\n\u001b[1;32m    383\u001b[0m \u001b[38;5;124;03mMultiple StorageBackends are currently supported: AWS S3, Azure Data Lake Storage Gen2, Google Cloud Storage (GCS) and local URI.\u001b[39;00m\n\u001b[0;32m   (...)\u001b[0m\n\u001b[1;32m    398\u001b[0m \n\u001b[1;32m    399\u001b[0m \u001b[38;5;124;03m\"\"\"\u001b[39;00m\n\u001b[1;32m    400\u001b[0m \u001b[38;5;28mself\u001b[39m\u001b[38;5;241m.\u001b[39m_storage_options \u001b[38;5;241m=\u001b[39m storage_options\n\u001b[0;32m--> 401\u001b[0m \u001b[38;5;28mself\u001b[39m\u001b[38;5;241m.\u001b[39m_table \u001b[38;5;241m=\u001b[39m \u001b[43mRawDeltaTable\u001b[49m\u001b[43m(\u001b[49m\n\u001b[1;32m    402\u001b[0m \u001b[43m    \u001b[49m\u001b[38;5;28;43mstr\u001b[39;49m\u001b[43m(\u001b[49m\u001b[43mtable_uri\u001b[49m\u001b[43m)\u001b[49m\u001b[43m,\u001b[49m\n\u001b[1;32m    403\u001b[0m \u001b[43m    \u001b[49m\u001b[43mversion\u001b[49m\u001b[38;5;241;43m=\u001b[39;49m\u001b[43mversion\u001b[49m\u001b[43m,\u001b[49m\n\u001b[1;32m    404\u001b[0m \u001b[43m    \u001b[49m\u001b[43mstorage_options\u001b[49m\u001b[38;5;241;43m=\u001b[39;49m\u001b[43mstorage_options\u001b[49m\u001b[43m,\u001b[49m\n\u001b[1;32m    405\u001b[0m \u001b[43m    \u001b[49m\u001b[43mwithout_files\u001b[49m\u001b[38;5;241;43m=\u001b[39;49m\u001b[43mwithout_files\u001b[49m\u001b[43m,\u001b[49m\n\u001b[1;32m    406\u001b[0m \u001b[43m    \u001b[49m\u001b[43mlog_buffer_size\u001b[49m\u001b[38;5;241;43m=\u001b[39;49m\u001b[43mlog_buffer_size\u001b[49m\u001b[43m,\u001b[49m\n\u001b[1;32m    407\u001b[0m \u001b[43m\u001b[49m\u001b[43m)\u001b[49m\n",
      "\u001b[0;31mTableNotFoundError\u001b[0m: no log files"
     ]
    }
   ],
   "source": [
    "pl.read_delta(\"../.././minio_data/depictio-bucket/65e5f007bad32df857a53cf2/65ef0ef8cbb1b4b72250fb0f/65ef0ef8cbb1b4b72250fb10/\")"
   ]
  },
  {
   "cell_type": "code",
   "execution_count": 2,
   "metadata": {},
   "outputs": [
    {
     "data": {
      "text/plain": [
       "'0.20.14'"
      ]
     },
     "execution_count": 2,
     "metadata": {},
     "output_type": "execute_result"
    }
   ],
   "source": [
    "pl.__version__"
   ]
  },
  {
   "cell_type": "code",
   "execution_count": 3,
   "metadata": {},
   "outputs": [
    {
     "data": {
      "text/html": [
       "<div>\n",
       "<style scoped>\n",
       "    .dataframe tbody tr th:only-of-type {\n",
       "        vertical-align: middle;\n",
       "    }\n",
       "\n",
       "    .dataframe tbody tr th {\n",
       "        vertical-align: top;\n",
       "    }\n",
       "\n",
       "    .dataframe thead th {\n",
       "        text-align: right;\n",
       "    }\n",
       "</style>\n",
       "<table border=\"1\" class=\"dataframe\">\n",
       "  <thead>\n",
       "    <tr style=\"text-align: right;\">\n",
       "      <th></th>\n",
       "      <th>id</th>\n",
       "      <th>name</th>\n",
       "    </tr>\n",
       "  </thead>\n",
       "  <tbody>\n",
       "    <tr>\n",
       "      <th>0</th>\n",
       "      <td>1</td>\n",
       "      <td>foo</td>\n",
       "    </tr>\n",
       "    <tr>\n",
       "      <th>1</th>\n",
       "      <td>2</td>\n",
       "      <td>bar</td>\n",
       "    </tr>\n",
       "    <tr>\n",
       "      <th>2</th>\n",
       "      <td>3</td>\n",
       "      <td>baz</td>\n",
       "    </tr>\n",
       "  </tbody>\n",
       "</table>\n",
       "</div>"
      ],
      "text/plain": [
       "   id name\n",
       "0   1  foo\n",
       "1   2  bar\n",
       "2   3  baz"
      ]
     },
     "execution_count": 3,
     "metadata": {},
     "output_type": "execute_result"
    }
   ],
   "source": [
    "# deltalake version\n",
    "import deltalake\n",
    "import pandas as pd\n",
    "\n",
    "df = pd.DataFrame([{\"id\": 1, \"name\": \"foo\"}, {\"id\": 2, \"name\": \"bar\"}, {\"id\": 3, \"name\": \"baz\"}])\n",
    "deltalake.write_deltalake(\"./data/delta-table\", df, mode=\"overwrite\")\n",
    "\n",
    "# Load the table\n",
    "table = deltalake.DeltaTable(\"./data/delta-table\")\n",
    "table.to_pandas()"
   ]
  },
  {
   "cell_type": "code",
   "execution_count": 6,
   "metadata": {},
   "outputs": [
    {
     "name": "stdout",
     "output_type": "stream",
     "text": [
      "{'Buckets': [{'CreationDate': datetime.datetime(2024, 3, 20, 18, 27, 16, 942000, tzinfo=tzutc()),\n",
      "              'Name': 'depictio-bucket'}],\n",
      " 'Owner': {'DisplayName': 'minio',\n",
      "           'ID': '02d6176db174dc93cb1b899f7c6078f08654445fe8cf1b6ce98d8855f66bdbf4'},\n",
      " 'ResponseMetadata': {'HTTPHeaders': {'accept-ranges': 'bytes',\n",
      "                                      'content-length': '373',\n",
      "                                      'content-type': 'application/xml',\n",
      "                                      'date': 'Fri, 12 Apr 2024 12:34:05 GMT',\n",
      "                                      'server': 'MinIO',\n",
      "                                      'strict-transport-security': 'max-age=31536000; '\n",
      "                                                                   'includeSubDomains',\n",
      "                                      'vary': 'Origin, Accept-Encoding',\n",
      "                                      'x-amz-id-2': 'dd9025bab4ad464b049177c95eb6ebf374d3b3fd1af9251148b658df7ac2e3e8',\n",
      "                                      'x-amz-request-id': '17C5886F64E55FEF',\n",
      "                                      'x-content-type-options': 'nosniff',\n",
      "                                      'x-xss-protection': '1; mode=block'},\n",
      "                      'HTTPStatusCode': 200,\n",
      "                      'HostId': 'dd9025bab4ad464b049177c95eb6ebf374d3b3fd1af9251148b658df7ac2e3e8',\n",
      "                      'RequestId': '17C5886F64E55FEF',\n",
      "                      'RetryAttempts': 0}}\n"
     ]
    }
   ],
   "source": [
    "import boto3\n",
    "\n",
    "s3 = boto3.client(\"s3\", endpoint_url=\"http://localhost:9000\", aws_access_key_id=\"minio\", aws_secret_access_key=\"minio123\", region_name=\"us-east-1\")\n",
    "from pprint import pprint\n",
    "\n",
    "pprint(s3.list_buckets())"
   ]
  },
  {
   "cell_type": "code",
   "execution_count": 15,
   "metadata": {},
   "outputs": [
    {
     "ename": "DeltaProtocolError",
     "evalue": "Atomic rename requires a LockClient for S3 backends. Either configure the LockClient, or set AWS_S3_ALLOW_UNSAFE_RENAME=true to opt out of support for concurrent writers.",
     "output_type": "error",
     "traceback": [
      "\u001b[0;31m---------------------------------------------------------------------------\u001b[0m",
      "\u001b[0;31mDeltaProtocolError\u001b[0m                        Traceback (most recent call last)",
      "Cell \u001b[0;32mIn[15], line 19\u001b[0m\n\u001b[1;32m      8\u001b[0m storage_options \u001b[38;5;241m=\u001b[39m {\n\u001b[1;32m      9\u001b[0m     \u001b[38;5;124m\"\u001b[39m\u001b[38;5;124mendpoint_url\u001b[39m\u001b[38;5;124m\"\u001b[39m: \u001b[38;5;124m\"\u001b[39m\u001b[38;5;124mhttp://localhost:9000\u001b[39m\u001b[38;5;124m\"\u001b[39m,  \u001b[38;5;66;03m# Change localhost to your MinIO server IP if necessary\u001b[39;00m\n\u001b[1;32m     10\u001b[0m     \u001b[38;5;124m\"\u001b[39m\u001b[38;5;124maws_access_key_id\u001b[39m\u001b[38;5;124m\"\u001b[39m: \u001b[38;5;124m\"\u001b[39m\u001b[38;5;124mminio\u001b[39m\u001b[38;5;124m\"\u001b[39m,\n\u001b[0;32m   (...)\u001b[0m\n\u001b[1;32m     15\u001b[0m     \u001b[38;5;124m\"\u001b[39m\u001b[38;5;124mAWS_ALLOW_HTTP\u001b[39m\u001b[38;5;124m\"\u001b[39m : \u001b[38;5;124m\"\u001b[39m\u001b[38;5;124mtrue\u001b[39m\u001b[38;5;124m\"\u001b[39m\n\u001b[1;32m     16\u001b[0m }\n\u001b[1;32m     18\u001b[0m \u001b[38;5;66;03m# Write to MinIO\u001b[39;00m\n\u001b[0;32m---> 19\u001b[0m \u001b[43mdeltalake\u001b[49m\u001b[38;5;241;43m.\u001b[39;49m\u001b[43mwrite_deltalake\u001b[49m\u001b[43m(\u001b[49m\u001b[38;5;124;43m\"\u001b[39;49m\u001b[38;5;124;43ms3://depictio-bucket/data/delta-table2\u001b[39;49m\u001b[38;5;124;43m\"\u001b[39;49m\u001b[43m,\u001b[49m\u001b[43m \u001b[49m\u001b[43mdf\u001b[49m\u001b[43m,\u001b[49m\u001b[43m \u001b[49m\u001b[43mstorage_options\u001b[49m\u001b[38;5;241;43m=\u001b[39;49m\u001b[43mstorage_options\u001b[49m\u001b[43m,\u001b[49m\u001b[43m \u001b[49m\u001b[43mmode\u001b[49m\u001b[38;5;241;43m=\u001b[39;49m\u001b[38;5;124;43m\"\u001b[39;49m\u001b[38;5;124;43moverwrite\u001b[39;49m\u001b[38;5;124;43m\"\u001b[39;49m\u001b[43m)\u001b[49m\n\u001b[1;32m     21\u001b[0m \u001b[38;5;66;03m# # Load the table from MinIO\u001b[39;00m\n\u001b[1;32m     22\u001b[0m \u001b[38;5;66;03m# table = deltalake.DeltaTable(\"s3://your-bucket-name/data/delta-table\", storage_options=storage_options)\u001b[39;00m\n\u001b[1;32m     23\u001b[0m \u001b[38;5;66;03m# df_from_minio = table.to_pandas()\u001b[39;00m\n",
      "File \u001b[0;32m~/miniconda3/envs/depictio_dev/lib/python3.11/site-packages/deltalake/writer.py:492\u001b[0m, in \u001b[0;36mwrite_deltalake\u001b[0;34m(table_or_uri, data, schema, partition_by, mode, file_options, max_partitions, max_open_files, max_rows_per_file, min_rows_per_group, max_rows_per_group, name, description, configuration, overwrite_schema, storage_options, partition_filters, predicate, large_dtypes, engine, writer_properties, custom_metadata)\u001b[0m\n\u001b[1;32m    472\u001b[0m ds\u001b[38;5;241m.\u001b[39mwrite_dataset(\n\u001b[1;32m    473\u001b[0m     data,\n\u001b[1;32m    474\u001b[0m     base_dir\u001b[38;5;241m=\u001b[39m\u001b[38;5;124m\"\u001b[39m\u001b[38;5;124m/\u001b[39m\u001b[38;5;124m\"\u001b[39m,\n\u001b[0;32m   (...)\u001b[0m\n\u001b[1;32m    488\u001b[0m     max_partitions\u001b[38;5;241m=\u001b[39mmax_partitions,\n\u001b[1;32m    489\u001b[0m )\n\u001b[1;32m    491\u001b[0m \u001b[38;5;28;01mif\u001b[39;00m table \u001b[38;5;129;01mis\u001b[39;00m \u001b[38;5;28;01mNone\u001b[39;00m:\n\u001b[0;32m--> 492\u001b[0m     \u001b[43mwrite_deltalake_pyarrow\u001b[49m\u001b[43m(\u001b[49m\n\u001b[1;32m    493\u001b[0m \u001b[43m        \u001b[49m\u001b[43mtable_uri\u001b[49m\u001b[43m,\u001b[49m\n\u001b[1;32m    494\u001b[0m \u001b[43m        \u001b[49m\u001b[43mschema\u001b[49m\u001b[43m,\u001b[49m\n\u001b[1;32m    495\u001b[0m \u001b[43m        \u001b[49m\u001b[43madd_actions\u001b[49m\u001b[43m,\u001b[49m\n\u001b[1;32m    496\u001b[0m \u001b[43m        \u001b[49m\u001b[43mmode\u001b[49m\u001b[43m,\u001b[49m\n\u001b[1;32m    497\u001b[0m \u001b[43m        \u001b[49m\u001b[43mpartition_by\u001b[49m\u001b[43m \u001b[49m\u001b[38;5;129;43;01mor\u001b[39;49;00m\u001b[43m \u001b[49m\u001b[43m[\u001b[49m\u001b[43m]\u001b[49m\u001b[43m,\u001b[49m\n\u001b[1;32m    498\u001b[0m \u001b[43m        \u001b[49m\u001b[43mname\u001b[49m\u001b[43m,\u001b[49m\n\u001b[1;32m    499\u001b[0m \u001b[43m        \u001b[49m\u001b[43mdescription\u001b[49m\u001b[43m,\u001b[49m\n\u001b[1;32m    500\u001b[0m \u001b[43m        \u001b[49m\u001b[43mconfiguration\u001b[49m\u001b[43m,\u001b[49m\n\u001b[1;32m    501\u001b[0m \u001b[43m        \u001b[49m\u001b[43mstorage_options\u001b[49m\u001b[43m,\u001b[49m\n\u001b[1;32m    502\u001b[0m \u001b[43m        \u001b[49m\u001b[43mcustom_metadata\u001b[49m\u001b[43m,\u001b[49m\n\u001b[1;32m    503\u001b[0m \u001b[43m    \u001b[49m\u001b[43m)\u001b[49m\n\u001b[1;32m    504\u001b[0m \u001b[38;5;28;01melse\u001b[39;00m:\n\u001b[1;32m    505\u001b[0m     table\u001b[38;5;241m.\u001b[39m_table\u001b[38;5;241m.\u001b[39mcreate_write_transaction(\n\u001b[1;32m    506\u001b[0m         add_actions,\n\u001b[1;32m    507\u001b[0m         mode,\n\u001b[0;32m   (...)\u001b[0m\n\u001b[1;32m    511\u001b[0m         custom_metadata,\n\u001b[1;32m    512\u001b[0m     )\n",
      "\u001b[0;31mDeltaProtocolError\u001b[0m: Atomic rename requires a LockClient for S3 backends. Either configure the LockClient, or set AWS_S3_ALLOW_UNSAFE_RENAME=true to opt out of support for concurrent writers."
     ]
    }
   ],
   "source": [
    "import deltalake\n",
    "import pandas as pd\n",
    "\n",
    "# DataFrame creation\n",
    "df = pd.DataFrame([{\"id\": 1, \"name\": \"foo\"}, {\"id\": 2, \"name\": \"bar\"}, {\"id\": 3, \"name\": \"baz\"}])\n",
    "\n",
    "# MinIO storage options\n",
    "storage_options = {\n",
    "    \"endpoint_url\": \"http://localhost:9000\",  # Change localhost to your MinIO server IP if necessary\n",
    "    \"aws_access_key_id\": \"minio\",\n",
    "    \"aws_secret_access_key\": \"minio123\",\n",
    "    \"use_ssl\": \"false\",\n",
    "    \"AWS_REGION\": \"us-east-1\",  # Example region, adjust as needed\n",
    "    \"signature_version\": \"s3v4\",\n",
    "    \"AWS_ALLOW_HTTP\" : \"true\"\n",
    "    \"AWS_S3_LOCKING_PROVIDER\": \"dynamodb\"\n",
    "}\n",
    "\n",
    "# Write to MinIO\n",
    "deltalake.write_deltalake(\"s3://depictio-bucket/data/delta-table2\", df, storage_options=storage_options, mode=\"overwrite\")\n",
    "\n",
    "# # Load the table from MinIO\n",
    "# table = deltalake.DeltaTable(\"s3://your-bucket-name/data/delta-table\", storage_options=storage_options)\n",
    "# df_from_minio = table.to_pandas()"
   ]
  }
 ],
 "metadata": {
  "kernelspec": {
   "display_name": "depictio_dev",
   "language": "python",
   "name": "python3"
  },
  "language_info": {
   "codemirror_mode": {
    "name": "ipython",
    "version": 3
   },
   "file_extension": ".py",
   "mimetype": "text/x-python",
   "name": "python",
   "nbconvert_exporter": "python",
   "pygments_lexer": "ipython3",
   "version": "3.11.7"
  }
 },
 "nbformat": 4,
 "nbformat_minor": 2
}
