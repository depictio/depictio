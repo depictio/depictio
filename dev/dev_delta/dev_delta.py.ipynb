{
 "cells": [
  {
   "cell_type": "code",
   "execution_count": null,
   "metadata": {},
   "outputs": [],
   "source": [
    "import polars as pl\n",
    "import deltalake\n",
    "import os\n",
    "import sys"
   ]
  },
  {
   "cell_type": "code",
   "execution_count": null,
   "metadata": {},
   "outputs": [],
   "source": [
    "pl.__version__"
   ]
  },
  {
   "cell_type": "code",
   "execution_count": null,
   "metadata": {},
   "outputs": [],
   "source": [
    "df1 = pl.DataFrame(\n",
    "    {\n",
    "        \"a\": [\"A\", \"B\", \"C\"],\n",
    "        \"b\": [4, 5, 6],\n",
    "    }\n",
    ")\n",
    "df1"
   ]
  },
  {
   "cell_type": "code",
   "execution_count": null,
   "metadata": {},
   "outputs": [],
   "source": [
    "df1.write_delta(\"data/delta-table\")\n"
   ]
  },
  {
   "cell_type": "code",
   "execution_count": null,
   "metadata": {},
   "outputs": [],
   "source": [
    "location = \"/Users/tweber/Gits/depictio/minio_data/depictio-bucket/\"\n",
    "# location = f\"../../{location}\"\n",
    "for root, dirs, files in os.walk(location):\n",
    "    for file in files:\n",
    "        print(file)\n",
    "        print(os.path.join(root, file))\n",
    "        if (file.endswith(\".parquet\")) and (\"test_table\" not in os.path.join(root, file)):\n",
    "            print(\"parquet\")\n",
    "            delta_table = \"/\".join(os.path.join(root, file).split(\"/\")[:-1]) + \"/\"\n",
    "print(delta_table)\n",
    "delta_table = \"/Users/tweber/Gits/depictio/minio_data/depictio-bucket/65e5f007bad32df857a53cf2/65ef2b8624e251dd1fb14e9c/65ef2b8624e251dd1fb14e9d/\""
   ]
  },
  {
   "cell_type": "code",
   "execution_count": null,
   "metadata": {},
   "outputs": [],
   "source": [
    "!tree -h -D $location"
   ]
  },
  {
   "cell_type": "code",
   "execution_count": null,
   "metadata": {},
   "outputs": [],
   "source": [
    "!tree -h -D $delta_table"
   ]
  },
  {
   "cell_type": "code",
   "execution_count": null,
   "metadata": {},
   "outputs": [],
   "source": [
    "with pl.Config(fmt_str_lengths=50):\n",
    "    print(pl.read_delta(delta_table, version=0).select(\"depictio_aggregation_time\"))"
   ]
  },
  {
   "cell_type": "code",
   "execution_count": null,
   "metadata": {},
   "outputs": [],
   "source": [
    "!ls -alh ../../minio_data/depictio-bucket/65e5f007bad32df857a53cf2/65ef057b6832d5ac36e3a1df/65ef057b6832d5ac36e3a1e0/_delta_log"
   ]
  },
  {
   "cell_type": "code",
   "execution_count": null,
   "metadata": {},
   "outputs": [],
   "source": [
    "!ls ../.././minio_data/depictio-bucket/65e5f007bad32df857a53cf2/65ef0cf6ba771d68d82abe9e/65ef0cf6ba771d68d82abe9f"
   ]
  },
  {
   "cell_type": "code",
   "execution_count": null,
   "metadata": {},
   "outputs": [],
   "source": [
    "dt = deltalake.DeltaTable(\"../../minio_data/depictio-bucket/65e5f007bad32df857a53cf2/65ef0cf6ba771d68d82abe9e/65ef0cf6ba771d68d82abe9f/\")"
   ]
  },
  {
   "cell_type": "code",
   "execution_count": null,
   "metadata": {},
   "outputs": [],
   "source": [
    "import pandas as pd\n",
    "\n",
    "\n",
    "df = pd.DataFrame([{\"id\": 1, \"name\": \"foo\"}, {\"id\": 2, \"name\": \"bar\"}, {\"id\": 3, \"name\": \"baz\"}])\n",
    "\n",
    "pl_df = pl.DataFrame(df)\n",
    "\n",
    "pl_df.write_delta(\"../../minio_data/depictio-bucket/test_table/\", mode=\"overwrite\")"
   ]
  },
  {
   "cell_type": "code",
   "execution_count": null,
   "metadata": {},
   "outputs": [],
   "source": [
    "pl.read_delta(\"../../minio_data/depictio-bucket/test_table\", version=0)"
   ]
  },
  {
   "cell_type": "code",
   "execution_count": null,
   "metadata": {},
   "outputs": [],
   "source": [
    "pl.read_delta(\"../.././minio_data/depictio-bucket/65e5f007bad32df857a53cf2/65ef0ef8cbb1b4b72250fb0f/65ef0ef8cbb1b4b72250fb10/\")"
   ]
  },
  {
   "cell_type": "code",
   "execution_count": null,
   "metadata": {},
   "outputs": [],
   "source": [
    "pl.__version__"
   ]
  },
  {
   "cell_type": "code",
   "execution_count": null,
   "metadata": {},
   "outputs": [],
   "source": [
    "# deltalake version\n",
    "import deltalake\n",
    "import pandas as pd\n",
    "\n",
    "df = pd.DataFrame([{\"id\": 1, \"name\": \"foo\"}, {\"id\": 2, \"name\": \"bar\"}, {\"id\": 3, \"name\": \"baz\"}])\n",
    "deltalake.write_deltalake(\"./data/delta-table\", df, mode=\"overwrite\")\n",
    "\n",
    "# Load the table\n",
    "table = deltalake.DeltaTable(\"./data/delta-table\")\n",
    "table.to_pandas()"
   ]
  },
  {
   "cell_type": "code",
   "execution_count": null,
   "metadata": {},
   "outputs": [],
   "source": [
    "import boto3\n",
    "\n",
    "s3 = boto3.client(\"s3\", endpoint_url=\"http://localhost:9000\", aws_access_key_id=\"minio\", aws_secret_access_key=\"minio123\", region_name=\"us-east-1\")\n",
    "from pprint import pprint\n",
    "\n",
    "pprint(s3.list_buckets())"
   ]
  },
  {
   "cell_type": "code",
   "execution_count": null,
   "metadata": {},
   "outputs": [],
   "source": [
    "import deltalake\n",
    "import pandas as pd\n",
    "\n",
    "# DataFrame creation\n",
    "df = pd.DataFrame([{\"id\": 1, \"name\": \"foo\"}, {\"id\": 2, \"name\": \"bar\"}, {\"id\": 3, \"name\": \"baz\"}])\n",
    "\n",
    "# MinIO storage options\n",
    "storage_options = {\n",
    "    \"endpoint_url\": \"http://localhost:9000\",  # Change localhost to your MinIO server IP if necessary\n",
    "    \"aws_access_key_id\": \"minio\",\n",
    "    \"aws_secret_access_key\": \"minio123\",\n",
    "    \"use_ssl\": \"false\",\n",
    "    \"AWS_REGION\": \"us-east-1\",  # Example region, adjust as needed\n",
    "    \"signature_version\": \"s3v4\",\n",
    "    \"AWS_ALLOW_HTTP\" : \"true\",\n",
    "    \"AWS_S3_ALLOW_UNSAFE_RENAME\": \"true\"\n",
    "}\n",
    "\n",
    "# Write to MinIO\n",
    "deltalake.write_deltalake(\"s3://depictio-bucket/data/delta-table4\", df, storage_options=storage_options, mode=\"overwrite\")\n",
    "\n",
    "# # Load the table from MinIO\n",
    "# table = deltalake.DeltaTable(\"s3://your-bucket-name/data/delta-table\", storage_options=storage_options)\n",
    "# df_from_minio = table.to_pandas()"
   ]
  },
  {
   "cell_type": "code",
   "execution_count": null,
   "metadata": {},
   "outputs": [],
   "source": [
    "table = deltalake.DeltaTable(\"s3://depictio-bucket/data/delta-table4\", storage_options=storage_options)\n",
    "df_from_minio = table.to_pandas()\n",
    "df_from_minio"
   ]
  },
  {
   "cell_type": "code",
   "execution_count": null,
   "metadata": {},
   "outputs": [],
   "source": [
    "# do the same with polars\n",
    "import polars as pl\n",
    "\n",
    "\n",
    "df = pd.DataFrame([{\"id\": 1, \"name\": \"foo\"}, {\"id\": 2, \"name\": \"bar\"}, {\"id\": 3, \"name\": \"baz\"}, {\"id\": 4, \"name\": \"baz\"}])\n",
    "df = pl.DataFrame(df)\n",
    "df.write_delta(\"s3://depictio-bucket/data/delta-table5\", storage_options=storage_options, mode=\"overwrite\")\n",
    "df"
   ]
  },
  {
   "cell_type": "code",
   "execution_count": null,
   "metadata": {},
   "outputs": [],
   "source": [
    "import boto3\n",
    "from botocore.exceptions import NoCredentialsError\n",
    "\n",
    "# MinIO credentials\n",
    "minio_endpoint = \"http://localhost:9000\"  # Change to your MinIO server URL\n",
    "access_key = \"minio\"\n",
    "secret_key = \"minio123\"\n",
    "bucket_name = \"depictio-bucket\"\n",
    "destination_prefix = \"67a25c82fea6466823de362\"  # Remove 's3://' when using boto3\n",
    "\n",
    "storage_options = {\n",
    "    \"endpoint_url\": minio_endpoint,\n",
    "    \"aws_access_key_id\": access_key,\n",
    "    \"aws_secret_access_key\": secret_key,\n",
    "    \"use_ssl\": \"false\",\n",
    "    \"AWS_REGION\": \"us-east-1\",\n",
    "    \"signature_version\": \"s3v4\",\n",
    "    \"AWS_ALLOW_HTTP\": \"true\",\n",
    "    \"AWS_S3_ALLOW_UNSAFE_RENAME\": \"true\"\n",
    "}\n",
    "\n",
    "import deltalake.exceptions\n",
    "import polars as pl\n",
    "import deltalake\n",
    "\n",
    "try:\n",
    "    df = pl.read_delta(f\"s3://{bucket_name}/{destination_prefix}\", storage_options=storage_options)\n",
    "except deltalake.exceptions.TableNotFoundError as e:\n",
    "    print(\"Table not found:\", e)\n",
    "    # Handle the error or provide a fallback\n",
    "    # For example, you could create a new Delta table or log the error\n"
   ]
  },
  {
   "cell_type": "code",
   "execution_count": null,
   "metadata": {},
   "outputs": [],
   "source": [
    "# read using polars from minio\n",
    "# list versions of the table in the delta table\n",
    "\n",
    "import polars as pl\n",
    "storage_options = {\n",
    "    \"endpoint_url\": \"http://localhost:9000\",  # Change localhost to your MinIO server IP if necessary\n",
    "    \"aws_access_key_id\": \"minio\",\n",
    "    \"aws_secret_access_key\": \"minio123\",\n",
    "    \"use_ssl\": \"false\",\n",
    "    \"AWS_REGION\": \"us-east-1\",  # Example region, adjust as needed\n",
    "    \"signature_version\": \"s3v4\",\n",
    "    \"AWS_ALLOW_HTTP\" : \"true\",\n",
    "    \"AWS_S3_ALLOW_UNSAFE_RENAME\": \"true\"\n",
    "}\n",
    "df = pl.scan_delta(\"s3://depictio-bucket/662acab447d998cd889678c1/6647d03b57d1fae8d89dce8d/6647d03b57d1fae8d89dce8e/\", storage_options=storage_options).collect()\n",
    "df\n"
   ]
  },
  {
   "cell_type": "code",
   "execution_count": null,
   "metadata": {},
   "outputs": [],
   "source": [
    "pl.__version__"
   ]
  },
  {
   "cell_type": "code",
   "execution_count": null,
   "metadata": {},
   "outputs": [],
   "source": [
    "type(df[\"cell\"].unique())"
   ]
  },
  {
   "cell_type": "code",
   "execution_count": null,
   "metadata": {},
   "outputs": [],
   "source": [
    "list(df[\"cell\"].unique())"
   ]
  },
  {
   "cell_type": "code",
   "execution_count": null,
   "metadata": {},
   "outputs": [],
   "source": [
    "import polars as pl\n",
    "\n",
    "# Function to add filter criteria to a list\n",
    "def add_filter(filter_list, interactive_component_type, column_name, value, min_value=None, max_value=None):\n",
    "    print(filter_list)\n",
    "    if interactive_component_type in [\"Select\", \"MultiSelect\", \"SegmentedControl\"]:\n",
    "        if value:\n",
    "            filter_list.append(pl.col(column_name).is_in(value))\n",
    "    \n",
    "    elif interactive_component_type == \"TextInput\":\n",
    "        if value:\n",
    "            filter_list.append(pl.col(column_name).str.contains(value))\n",
    "    \n",
    "    elif interactive_component_type == \"Slider\":\n",
    "        if value:\n",
    "            filter_list.append(pl.col(column_name) == value)\n",
    "    \n",
    "    elif interactive_component_type == \"RangeSlider\":\n",
    "        if value:\n",
    "            filter_list.append((pl.col(column_name) >= value[0]) & (pl.col(column_name) <= value[1]))\n",
    "\n",
    "# Function to apply the cumulative filter to the DataFrame\n",
    "def apply_filters(df, filter_list):\n",
    "    if filter_list:\n",
    "        combined_filter = filter_list[0]\n",
    "        for filt in filter_list[1:]:\n",
    "            combined_filter &= filt\n",
    "        return df.filter(combined_filter)\n",
    "    return df\n",
    "\n",
    "# Example usage\n",
    "filter_list = []\n",
    "\n",
    "# Example interactive components and values\n",
    "interactive_components = [\n",
    "    {\"type\": \"Select\", \"column\": \"category\", \"value\": [\"A\", \"B\"]},\n",
    "    {\"type\": \"TextInput\", \"column\": \"name\", \"value\": \"John\"},\n",
    "    {\"type\": \"Slider\", \"column\": \"age\", \"value\": 30},\n",
    "    {\"type\": \"RangeSlider\", \"column\": \"salary\", \"value\": [50000, 100000]},\n",
    "]\n",
    "\n",
    "# Populate the filter list\n",
    "for component in interactive_components:\n",
    "    add_filter(\n",
    "        filter_list,\n",
    "        interactive_component_type=component[\"type\"],\n",
    "        column_name=component[\"column\"],\n",
    "        value=component[\"value\"]\n",
    "    )\n",
    "\n",
    "# Sample DataFrame\n",
    "df = pl.DataFrame({\n",
    "    \"category\": [\"A\", \"B\", \"C\", \"A\"],\n",
    "    \"name\": [\"John\", \"Jane\", \"John\", \"Doe\"],\n",
    "    \"age\": [30, 25, 40, 30],\n",
    "    \"salary\": [60000, 80000, 70000, 90000]\n",
    "})\n",
    "\n",
    "# Apply the filters\n",
    "filtered_df = apply_filters(df, filter_list)\n",
    "\n",
    "print(filtered_df)"
   ]
  }
 ],
 "metadata": {
  "kernelspec": {
   "display_name": "depictio_dev",
   "language": "python",
   "name": "python3"
  },
  "language_info": {
   "codemirror_mode": {
    "name": "ipython",
    "version": 3
   },
   "file_extension": ".py",
   "mimetype": "text/x-python",
   "name": "python",
   "nbconvert_exporter": "python",
   "pygments_lexer": "ipython3",
   "version": "3.11.7"
  }
 },
 "nbformat": 4,
 "nbformat_minor": 4
}
